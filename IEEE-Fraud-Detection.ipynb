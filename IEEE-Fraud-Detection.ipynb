{
  "nbformat": 4,
  "nbformat_minor": 0,
  "metadata": {
    "colab": {
      "name": "Untitled4.ipynb",
      "provenance": [],
      "collapsed_sections": []
    },
    "kernelspec": {
      "name": "python3",
      "display_name": "Python 3"
    },
    "accelerator": "GPU"
  },
  "cells": [
    {
      "cell_type": "code",
      "metadata": {
        "colab": {
          "base_uri": "https://localhost:8080/"
        },
        "id": "KVRpgZzvE2po",
        "outputId": "4e0865ca-45f7-497e-d90a-e80999f5650a"
      },
      "source": [
        "from google.colab import drive\r\n",
        "import pandas as pd\r\n",
        "drive.mount('/content/drive',force_remount=True)"
      ],
      "execution_count": null,
      "outputs": [
        {
          "output_type": "stream",
          "text": [
            "Mounted at /content/drive\n"
          ],
          "name": "stdout"
        }
      ]
    },
    {
      "cell_type": "code",
      "metadata": {
        "id": "LoAOtmM8E4kO"
      },
      "source": [
        "import pandas as pd\r\n",
        "import numpy as np"
      ],
      "execution_count": null,
      "outputs": []
    },
    {
      "cell_type": "code",
      "metadata": {
        "id": "WntUn6t_FBNt"
      },
      "source": [
        "import zipfile\r\n",
        "with zipfile.ZipFile(\"/content/drive/MyDrive/odev2/ieee-fraud-detection.zip\", 'r') as zip_ref:\r\n",
        "    zip_ref.extractall(\"/content/drive/MyDrive/odev2\")"
      ],
      "execution_count": null,
      "outputs": []
    },
    {
      "cell_type": "code",
      "metadata": {
        "id": "MjacTtWGFFxM"
      },
      "source": [
        "train_transaction = pd.read_csv(\"/content/drive/MyDrive/odev2/train_transaction.csv\")\r\n",
        "train_identity = pd.read_csv(\"/content/drive/MyDrive/odev2/train_identity.csv\")\r\n",
        "test_transaction = pd.read_csv(\"/content/drive/MyDrive/odev2/test_transaction.csv\")\r\n",
        "test_identity = pd.read_csv(\"/content/drive/MyDrive/odev2/test_identity.csv\")"
      ],
      "execution_count": null,
      "outputs": []
    },
    {
      "cell_type": "markdown",
      "metadata": {
        "id": "4axli9aKU7h_"
      },
      "source": [
        "# Preprocessing"
      ]
    },
    {
      "cell_type": "code",
      "metadata": {
        "id": "RVoXMHwDFNHM"
      },
      "source": [
        "train = train_transaction.merge(train_identity, on=\"TransactionID\", how=\"left\") #train ve test datalarımı olusturuyorum. Train ve test datalari iki parca halinde verilmis o yuzden birlestiriyorum\r\n",
        "del train_transaction\r\n",
        "del train_identity\r\n",
        "test = test_transaction.merge(test_identity, on=\"TransactionID\", how=\"left\")\r\n",
        "del test_transaction\r\n",
        "del test_identity"
      ],
      "execution_count": null,
      "outputs": []
    },
    {
      "cell_type": "code",
      "metadata": {
        "colab": {
          "base_uri": "https://localhost:8080/",
          "height": 459
        },
        "id": "Qgp1HBdxFNzk",
        "outputId": "423abdd2-3643-4cfd-91f7-925bac96ca56"
      },
      "source": [
        "train.head(10)"
      ],
      "execution_count": null,
      "outputs": [
        {
          "output_type": "execute_result",
          "data": {
            "text/html": [
              "<div>\n",
              "<style scoped>\n",
              "    .dataframe tbody tr th:only-of-type {\n",
              "        vertical-align: middle;\n",
              "    }\n",
              "\n",
              "    .dataframe tbody tr th {\n",
              "        vertical-align: top;\n",
              "    }\n",
              "\n",
              "    .dataframe thead th {\n",
              "        text-align: right;\n",
              "    }\n",
              "</style>\n",
              "<table border=\"1\" class=\"dataframe\">\n",
              "  <thead>\n",
              "    <tr style=\"text-align: right;\">\n",
              "      <th></th>\n",
              "      <th>TransactionID</th>\n",
              "      <th>isFraud</th>\n",
              "      <th>TransactionDT</th>\n",
              "      <th>TransactionAmt</th>\n",
              "      <th>ProductCD</th>\n",
              "      <th>card1</th>\n",
              "      <th>card2</th>\n",
              "      <th>card3</th>\n",
              "      <th>card4</th>\n",
              "      <th>card5</th>\n",
              "      <th>card6</th>\n",
              "      <th>addr1</th>\n",
              "      <th>addr2</th>\n",
              "      <th>dist1</th>\n",
              "      <th>dist2</th>\n",
              "      <th>P_emaildomain</th>\n",
              "      <th>R_emaildomain</th>\n",
              "      <th>C1</th>\n",
              "      <th>C2</th>\n",
              "      <th>C3</th>\n",
              "      <th>C4</th>\n",
              "      <th>C5</th>\n",
              "      <th>C6</th>\n",
              "      <th>C7</th>\n",
              "      <th>C8</th>\n",
              "      <th>C9</th>\n",
              "      <th>C10</th>\n",
              "      <th>C11</th>\n",
              "      <th>C12</th>\n",
              "      <th>C13</th>\n",
              "      <th>C14</th>\n",
              "      <th>D1</th>\n",
              "      <th>D2</th>\n",
              "      <th>D3</th>\n",
              "      <th>D4</th>\n",
              "      <th>D5</th>\n",
              "      <th>D6</th>\n",
              "      <th>D7</th>\n",
              "      <th>D8</th>\n",
              "      <th>D9</th>\n",
              "      <th>...</th>\n",
              "      <th>id_01</th>\n",
              "      <th>id_02</th>\n",
              "      <th>id_03</th>\n",
              "      <th>id_04</th>\n",
              "      <th>id_05</th>\n",
              "      <th>id_06</th>\n",
              "      <th>id_07</th>\n",
              "      <th>id_08</th>\n",
              "      <th>id_09</th>\n",
              "      <th>id_10</th>\n",
              "      <th>id_11</th>\n",
              "      <th>id_12</th>\n",
              "      <th>id_13</th>\n",
              "      <th>id_14</th>\n",
              "      <th>id_15</th>\n",
              "      <th>id_16</th>\n",
              "      <th>id_17</th>\n",
              "      <th>id_18</th>\n",
              "      <th>id_19</th>\n",
              "      <th>id_20</th>\n",
              "      <th>id_21</th>\n",
              "      <th>id_22</th>\n",
              "      <th>id_23</th>\n",
              "      <th>id_24</th>\n",
              "      <th>id_25</th>\n",
              "      <th>id_26</th>\n",
              "      <th>id_27</th>\n",
              "      <th>id_28</th>\n",
              "      <th>id_29</th>\n",
              "      <th>id_30</th>\n",
              "      <th>id_31</th>\n",
              "      <th>id_32</th>\n",
              "      <th>id_33</th>\n",
              "      <th>id_34</th>\n",
              "      <th>id_35</th>\n",
              "      <th>id_36</th>\n",
              "      <th>id_37</th>\n",
              "      <th>id_38</th>\n",
              "      <th>DeviceType</th>\n",
              "      <th>DeviceInfo</th>\n",
              "    </tr>\n",
              "  </thead>\n",
              "  <tbody>\n",
              "    <tr>\n",
              "      <th>0</th>\n",
              "      <td>2987000</td>\n",
              "      <td>0</td>\n",
              "      <td>86400</td>\n",
              "      <td>68.5</td>\n",
              "      <td>W</td>\n",
              "      <td>13926</td>\n",
              "      <td>NaN</td>\n",
              "      <td>150.0</td>\n",
              "      <td>discover</td>\n",
              "      <td>142.0</td>\n",
              "      <td>credit</td>\n",
              "      <td>315.0</td>\n",
              "      <td>87.0</td>\n",
              "      <td>19.0</td>\n",
              "      <td>NaN</td>\n",
              "      <td>NaN</td>\n",
              "      <td>NaN</td>\n",
              "      <td>1.0</td>\n",
              "      <td>1.0</td>\n",
              "      <td>0.0</td>\n",
              "      <td>0.0</td>\n",
              "      <td>0.0</td>\n",
              "      <td>1.0</td>\n",
              "      <td>0.0</td>\n",
              "      <td>0.0</td>\n",
              "      <td>1.0</td>\n",
              "      <td>0.0</td>\n",
              "      <td>2.0</td>\n",
              "      <td>0.0</td>\n",
              "      <td>1.0</td>\n",
              "      <td>1.0</td>\n",
              "      <td>14.0</td>\n",
              "      <td>NaN</td>\n",
              "      <td>13.0</td>\n",
              "      <td>NaN</td>\n",
              "      <td>NaN</td>\n",
              "      <td>NaN</td>\n",
              "      <td>NaN</td>\n",
              "      <td>NaN</td>\n",
              "      <td>NaN</td>\n",
              "      <td>...</td>\n",
              "      <td>NaN</td>\n",
              "      <td>NaN</td>\n",
              "      <td>NaN</td>\n",
              "      <td>NaN</td>\n",
              "      <td>NaN</td>\n",
              "      <td>NaN</td>\n",
              "      <td>NaN</td>\n",
              "      <td>NaN</td>\n",
              "      <td>NaN</td>\n",
              "      <td>NaN</td>\n",
              "      <td>NaN</td>\n",
              "      <td>NaN</td>\n",
              "      <td>NaN</td>\n",
              "      <td>NaN</td>\n",
              "      <td>NaN</td>\n",
              "      <td>NaN</td>\n",
              "      <td>NaN</td>\n",
              "      <td>NaN</td>\n",
              "      <td>NaN</td>\n",
              "      <td>NaN</td>\n",
              "      <td>NaN</td>\n",
              "      <td>NaN</td>\n",
              "      <td>NaN</td>\n",
              "      <td>NaN</td>\n",
              "      <td>NaN</td>\n",
              "      <td>NaN</td>\n",
              "      <td>NaN</td>\n",
              "      <td>NaN</td>\n",
              "      <td>NaN</td>\n",
              "      <td>NaN</td>\n",
              "      <td>NaN</td>\n",
              "      <td>NaN</td>\n",
              "      <td>NaN</td>\n",
              "      <td>NaN</td>\n",
              "      <td>NaN</td>\n",
              "      <td>NaN</td>\n",
              "      <td>NaN</td>\n",
              "      <td>NaN</td>\n",
              "      <td>NaN</td>\n",
              "      <td>NaN</td>\n",
              "    </tr>\n",
              "    <tr>\n",
              "      <th>1</th>\n",
              "      <td>2987001</td>\n",
              "      <td>0</td>\n",
              "      <td>86401</td>\n",
              "      <td>29.0</td>\n",
              "      <td>W</td>\n",
              "      <td>2755</td>\n",
              "      <td>404.0</td>\n",
              "      <td>150.0</td>\n",
              "      <td>mastercard</td>\n",
              "      <td>102.0</td>\n",
              "      <td>credit</td>\n",
              "      <td>325.0</td>\n",
              "      <td>87.0</td>\n",
              "      <td>NaN</td>\n",
              "      <td>NaN</td>\n",
              "      <td>gmail.com</td>\n",
              "      <td>NaN</td>\n",
              "      <td>1.0</td>\n",
              "      <td>1.0</td>\n",
              "      <td>0.0</td>\n",
              "      <td>0.0</td>\n",
              "      <td>0.0</td>\n",
              "      <td>1.0</td>\n",
              "      <td>0.0</td>\n",
              "      <td>0.0</td>\n",
              "      <td>0.0</td>\n",
              "      <td>0.0</td>\n",
              "      <td>1.0</td>\n",
              "      <td>0.0</td>\n",
              "      <td>1.0</td>\n",
              "      <td>1.0</td>\n",
              "      <td>0.0</td>\n",
              "      <td>NaN</td>\n",
              "      <td>NaN</td>\n",
              "      <td>0.0</td>\n",
              "      <td>NaN</td>\n",
              "      <td>NaN</td>\n",
              "      <td>NaN</td>\n",
              "      <td>NaN</td>\n",
              "      <td>NaN</td>\n",
              "      <td>...</td>\n",
              "      <td>NaN</td>\n",
              "      <td>NaN</td>\n",
              "      <td>NaN</td>\n",
              "      <td>NaN</td>\n",
              "      <td>NaN</td>\n",
              "      <td>NaN</td>\n",
              "      <td>NaN</td>\n",
              "      <td>NaN</td>\n",
              "      <td>NaN</td>\n",
              "      <td>NaN</td>\n",
              "      <td>NaN</td>\n",
              "      <td>NaN</td>\n",
              "      <td>NaN</td>\n",
              "      <td>NaN</td>\n",
              "      <td>NaN</td>\n",
              "      <td>NaN</td>\n",
              "      <td>NaN</td>\n",
              "      <td>NaN</td>\n",
              "      <td>NaN</td>\n",
              "      <td>NaN</td>\n",
              "      <td>NaN</td>\n",
              "      <td>NaN</td>\n",
              "      <td>NaN</td>\n",
              "      <td>NaN</td>\n",
              "      <td>NaN</td>\n",
              "      <td>NaN</td>\n",
              "      <td>NaN</td>\n",
              "      <td>NaN</td>\n",
              "      <td>NaN</td>\n",
              "      <td>NaN</td>\n",
              "      <td>NaN</td>\n",
              "      <td>NaN</td>\n",
              "      <td>NaN</td>\n",
              "      <td>NaN</td>\n",
              "      <td>NaN</td>\n",
              "      <td>NaN</td>\n",
              "      <td>NaN</td>\n",
              "      <td>NaN</td>\n",
              "      <td>NaN</td>\n",
              "      <td>NaN</td>\n",
              "    </tr>\n",
              "    <tr>\n",
              "      <th>2</th>\n",
              "      <td>2987002</td>\n",
              "      <td>0</td>\n",
              "      <td>86469</td>\n",
              "      <td>59.0</td>\n",
              "      <td>W</td>\n",
              "      <td>4663</td>\n",
              "      <td>490.0</td>\n",
              "      <td>150.0</td>\n",
              "      <td>visa</td>\n",
              "      <td>166.0</td>\n",
              "      <td>debit</td>\n",
              "      <td>330.0</td>\n",
              "      <td>87.0</td>\n",
              "      <td>287.0</td>\n",
              "      <td>NaN</td>\n",
              "      <td>outlook.com</td>\n",
              "      <td>NaN</td>\n",
              "      <td>1.0</td>\n",
              "      <td>1.0</td>\n",
              "      <td>0.0</td>\n",
              "      <td>0.0</td>\n",
              "      <td>0.0</td>\n",
              "      <td>1.0</td>\n",
              "      <td>0.0</td>\n",
              "      <td>0.0</td>\n",
              "      <td>1.0</td>\n",
              "      <td>0.0</td>\n",
              "      <td>1.0</td>\n",
              "      <td>0.0</td>\n",
              "      <td>1.0</td>\n",
              "      <td>1.0</td>\n",
              "      <td>0.0</td>\n",
              "      <td>NaN</td>\n",
              "      <td>NaN</td>\n",
              "      <td>0.0</td>\n",
              "      <td>NaN</td>\n",
              "      <td>NaN</td>\n",
              "      <td>NaN</td>\n",
              "      <td>NaN</td>\n",
              "      <td>NaN</td>\n",
              "      <td>...</td>\n",
              "      <td>NaN</td>\n",
              "      <td>NaN</td>\n",
              "      <td>NaN</td>\n",
              "      <td>NaN</td>\n",
              "      <td>NaN</td>\n",
              "      <td>NaN</td>\n",
              "      <td>NaN</td>\n",
              "      <td>NaN</td>\n",
              "      <td>NaN</td>\n",
              "      <td>NaN</td>\n",
              "      <td>NaN</td>\n",
              "      <td>NaN</td>\n",
              "      <td>NaN</td>\n",
              "      <td>NaN</td>\n",
              "      <td>NaN</td>\n",
              "      <td>NaN</td>\n",
              "      <td>NaN</td>\n",
              "      <td>NaN</td>\n",
              "      <td>NaN</td>\n",
              "      <td>NaN</td>\n",
              "      <td>NaN</td>\n",
              "      <td>NaN</td>\n",
              "      <td>NaN</td>\n",
              "      <td>NaN</td>\n",
              "      <td>NaN</td>\n",
              "      <td>NaN</td>\n",
              "      <td>NaN</td>\n",
              "      <td>NaN</td>\n",
              "      <td>NaN</td>\n",
              "      <td>NaN</td>\n",
              "      <td>NaN</td>\n",
              "      <td>NaN</td>\n",
              "      <td>NaN</td>\n",
              "      <td>NaN</td>\n",
              "      <td>NaN</td>\n",
              "      <td>NaN</td>\n",
              "      <td>NaN</td>\n",
              "      <td>NaN</td>\n",
              "      <td>NaN</td>\n",
              "      <td>NaN</td>\n",
              "    </tr>\n",
              "    <tr>\n",
              "      <th>3</th>\n",
              "      <td>2987003</td>\n",
              "      <td>0</td>\n",
              "      <td>86499</td>\n",
              "      <td>50.0</td>\n",
              "      <td>W</td>\n",
              "      <td>18132</td>\n",
              "      <td>567.0</td>\n",
              "      <td>150.0</td>\n",
              "      <td>mastercard</td>\n",
              "      <td>117.0</td>\n",
              "      <td>debit</td>\n",
              "      <td>476.0</td>\n",
              "      <td>87.0</td>\n",
              "      <td>NaN</td>\n",
              "      <td>NaN</td>\n",
              "      <td>yahoo.com</td>\n",
              "      <td>NaN</td>\n",
              "      <td>2.0</td>\n",
              "      <td>5.0</td>\n",
              "      <td>0.0</td>\n",
              "      <td>0.0</td>\n",
              "      <td>0.0</td>\n",
              "      <td>4.0</td>\n",
              "      <td>0.0</td>\n",
              "      <td>0.0</td>\n",
              "      <td>1.0</td>\n",
              "      <td>0.0</td>\n",
              "      <td>1.0</td>\n",
              "      <td>0.0</td>\n",
              "      <td>25.0</td>\n",
              "      <td>1.0</td>\n",
              "      <td>112.0</td>\n",
              "      <td>112.0</td>\n",
              "      <td>0.0</td>\n",
              "      <td>94.0</td>\n",
              "      <td>0.0</td>\n",
              "      <td>NaN</td>\n",
              "      <td>NaN</td>\n",
              "      <td>NaN</td>\n",
              "      <td>NaN</td>\n",
              "      <td>...</td>\n",
              "      <td>NaN</td>\n",
              "      <td>NaN</td>\n",
              "      <td>NaN</td>\n",
              "      <td>NaN</td>\n",
              "      <td>NaN</td>\n",
              "      <td>NaN</td>\n",
              "      <td>NaN</td>\n",
              "      <td>NaN</td>\n",
              "      <td>NaN</td>\n",
              "      <td>NaN</td>\n",
              "      <td>NaN</td>\n",
              "      <td>NaN</td>\n",
              "      <td>NaN</td>\n",
              "      <td>NaN</td>\n",
              "      <td>NaN</td>\n",
              "      <td>NaN</td>\n",
              "      <td>NaN</td>\n",
              "      <td>NaN</td>\n",
              "      <td>NaN</td>\n",
              "      <td>NaN</td>\n",
              "      <td>NaN</td>\n",
              "      <td>NaN</td>\n",
              "      <td>NaN</td>\n",
              "      <td>NaN</td>\n",
              "      <td>NaN</td>\n",
              "      <td>NaN</td>\n",
              "      <td>NaN</td>\n",
              "      <td>NaN</td>\n",
              "      <td>NaN</td>\n",
              "      <td>NaN</td>\n",
              "      <td>NaN</td>\n",
              "      <td>NaN</td>\n",
              "      <td>NaN</td>\n",
              "      <td>NaN</td>\n",
              "      <td>NaN</td>\n",
              "      <td>NaN</td>\n",
              "      <td>NaN</td>\n",
              "      <td>NaN</td>\n",
              "      <td>NaN</td>\n",
              "      <td>NaN</td>\n",
              "    </tr>\n",
              "    <tr>\n",
              "      <th>4</th>\n",
              "      <td>2987004</td>\n",
              "      <td>0</td>\n",
              "      <td>86506</td>\n",
              "      <td>50.0</td>\n",
              "      <td>H</td>\n",
              "      <td>4497</td>\n",
              "      <td>514.0</td>\n",
              "      <td>150.0</td>\n",
              "      <td>mastercard</td>\n",
              "      <td>102.0</td>\n",
              "      <td>credit</td>\n",
              "      <td>420.0</td>\n",
              "      <td>87.0</td>\n",
              "      <td>NaN</td>\n",
              "      <td>NaN</td>\n",
              "      <td>gmail.com</td>\n",
              "      <td>NaN</td>\n",
              "      <td>1.0</td>\n",
              "      <td>1.0</td>\n",
              "      <td>0.0</td>\n",
              "      <td>0.0</td>\n",
              "      <td>0.0</td>\n",
              "      <td>1.0</td>\n",
              "      <td>0.0</td>\n",
              "      <td>1.0</td>\n",
              "      <td>0.0</td>\n",
              "      <td>1.0</td>\n",
              "      <td>1.0</td>\n",
              "      <td>0.0</td>\n",
              "      <td>1.0</td>\n",
              "      <td>1.0</td>\n",
              "      <td>0.0</td>\n",
              "      <td>NaN</td>\n",
              "      <td>NaN</td>\n",
              "      <td>NaN</td>\n",
              "      <td>NaN</td>\n",
              "      <td>NaN</td>\n",
              "      <td>NaN</td>\n",
              "      <td>NaN</td>\n",
              "      <td>NaN</td>\n",
              "      <td>...</td>\n",
              "      <td>0.0</td>\n",
              "      <td>70787.0</td>\n",
              "      <td>NaN</td>\n",
              "      <td>NaN</td>\n",
              "      <td>NaN</td>\n",
              "      <td>NaN</td>\n",
              "      <td>NaN</td>\n",
              "      <td>NaN</td>\n",
              "      <td>NaN</td>\n",
              "      <td>NaN</td>\n",
              "      <td>100.0</td>\n",
              "      <td>NotFound</td>\n",
              "      <td>NaN</td>\n",
              "      <td>-480.0</td>\n",
              "      <td>New</td>\n",
              "      <td>NotFound</td>\n",
              "      <td>166.0</td>\n",
              "      <td>NaN</td>\n",
              "      <td>542.0</td>\n",
              "      <td>144.0</td>\n",
              "      <td>NaN</td>\n",
              "      <td>NaN</td>\n",
              "      <td>NaN</td>\n",
              "      <td>NaN</td>\n",
              "      <td>NaN</td>\n",
              "      <td>NaN</td>\n",
              "      <td>NaN</td>\n",
              "      <td>New</td>\n",
              "      <td>NotFound</td>\n",
              "      <td>Android 7.0</td>\n",
              "      <td>samsung browser 6.2</td>\n",
              "      <td>32.0</td>\n",
              "      <td>2220x1080</td>\n",
              "      <td>match_status:2</td>\n",
              "      <td>T</td>\n",
              "      <td>F</td>\n",
              "      <td>T</td>\n",
              "      <td>T</td>\n",
              "      <td>mobile</td>\n",
              "      <td>SAMSUNG SM-G892A Build/NRD90M</td>\n",
              "    </tr>\n",
              "    <tr>\n",
              "      <th>5</th>\n",
              "      <td>2987005</td>\n",
              "      <td>0</td>\n",
              "      <td>86510</td>\n",
              "      <td>49.0</td>\n",
              "      <td>W</td>\n",
              "      <td>5937</td>\n",
              "      <td>555.0</td>\n",
              "      <td>150.0</td>\n",
              "      <td>visa</td>\n",
              "      <td>226.0</td>\n",
              "      <td>debit</td>\n",
              "      <td>272.0</td>\n",
              "      <td>87.0</td>\n",
              "      <td>36.0</td>\n",
              "      <td>NaN</td>\n",
              "      <td>gmail.com</td>\n",
              "      <td>NaN</td>\n",
              "      <td>1.0</td>\n",
              "      <td>1.0</td>\n",
              "      <td>0.0</td>\n",
              "      <td>0.0</td>\n",
              "      <td>0.0</td>\n",
              "      <td>1.0</td>\n",
              "      <td>0.0</td>\n",
              "      <td>0.0</td>\n",
              "      <td>1.0</td>\n",
              "      <td>0.0</td>\n",
              "      <td>1.0</td>\n",
              "      <td>0.0</td>\n",
              "      <td>1.0</td>\n",
              "      <td>1.0</td>\n",
              "      <td>0.0</td>\n",
              "      <td>NaN</td>\n",
              "      <td>NaN</td>\n",
              "      <td>0.0</td>\n",
              "      <td>NaN</td>\n",
              "      <td>NaN</td>\n",
              "      <td>NaN</td>\n",
              "      <td>NaN</td>\n",
              "      <td>NaN</td>\n",
              "      <td>...</td>\n",
              "      <td>NaN</td>\n",
              "      <td>NaN</td>\n",
              "      <td>NaN</td>\n",
              "      <td>NaN</td>\n",
              "      <td>NaN</td>\n",
              "      <td>NaN</td>\n",
              "      <td>NaN</td>\n",
              "      <td>NaN</td>\n",
              "      <td>NaN</td>\n",
              "      <td>NaN</td>\n",
              "      <td>NaN</td>\n",
              "      <td>NaN</td>\n",
              "      <td>NaN</td>\n",
              "      <td>NaN</td>\n",
              "      <td>NaN</td>\n",
              "      <td>NaN</td>\n",
              "      <td>NaN</td>\n",
              "      <td>NaN</td>\n",
              "      <td>NaN</td>\n",
              "      <td>NaN</td>\n",
              "      <td>NaN</td>\n",
              "      <td>NaN</td>\n",
              "      <td>NaN</td>\n",
              "      <td>NaN</td>\n",
              "      <td>NaN</td>\n",
              "      <td>NaN</td>\n",
              "      <td>NaN</td>\n",
              "      <td>NaN</td>\n",
              "      <td>NaN</td>\n",
              "      <td>NaN</td>\n",
              "      <td>NaN</td>\n",
              "      <td>NaN</td>\n",
              "      <td>NaN</td>\n",
              "      <td>NaN</td>\n",
              "      <td>NaN</td>\n",
              "      <td>NaN</td>\n",
              "      <td>NaN</td>\n",
              "      <td>NaN</td>\n",
              "      <td>NaN</td>\n",
              "      <td>NaN</td>\n",
              "    </tr>\n",
              "    <tr>\n",
              "      <th>6</th>\n",
              "      <td>2987006</td>\n",
              "      <td>0</td>\n",
              "      <td>86522</td>\n",
              "      <td>159.0</td>\n",
              "      <td>W</td>\n",
              "      <td>12308</td>\n",
              "      <td>360.0</td>\n",
              "      <td>150.0</td>\n",
              "      <td>visa</td>\n",
              "      <td>166.0</td>\n",
              "      <td>debit</td>\n",
              "      <td>126.0</td>\n",
              "      <td>87.0</td>\n",
              "      <td>0.0</td>\n",
              "      <td>NaN</td>\n",
              "      <td>yahoo.com</td>\n",
              "      <td>NaN</td>\n",
              "      <td>1.0</td>\n",
              "      <td>1.0</td>\n",
              "      <td>0.0</td>\n",
              "      <td>0.0</td>\n",
              "      <td>0.0</td>\n",
              "      <td>1.0</td>\n",
              "      <td>0.0</td>\n",
              "      <td>0.0</td>\n",
              "      <td>1.0</td>\n",
              "      <td>0.0</td>\n",
              "      <td>1.0</td>\n",
              "      <td>0.0</td>\n",
              "      <td>1.0</td>\n",
              "      <td>1.0</td>\n",
              "      <td>0.0</td>\n",
              "      <td>NaN</td>\n",
              "      <td>NaN</td>\n",
              "      <td>0.0</td>\n",
              "      <td>NaN</td>\n",
              "      <td>NaN</td>\n",
              "      <td>NaN</td>\n",
              "      <td>NaN</td>\n",
              "      <td>NaN</td>\n",
              "      <td>...</td>\n",
              "      <td>NaN</td>\n",
              "      <td>NaN</td>\n",
              "      <td>NaN</td>\n",
              "      <td>NaN</td>\n",
              "      <td>NaN</td>\n",
              "      <td>NaN</td>\n",
              "      <td>NaN</td>\n",
              "      <td>NaN</td>\n",
              "      <td>NaN</td>\n",
              "      <td>NaN</td>\n",
              "      <td>NaN</td>\n",
              "      <td>NaN</td>\n",
              "      <td>NaN</td>\n",
              "      <td>NaN</td>\n",
              "      <td>NaN</td>\n",
              "      <td>NaN</td>\n",
              "      <td>NaN</td>\n",
              "      <td>NaN</td>\n",
              "      <td>NaN</td>\n",
              "      <td>NaN</td>\n",
              "      <td>NaN</td>\n",
              "      <td>NaN</td>\n",
              "      <td>NaN</td>\n",
              "      <td>NaN</td>\n",
              "      <td>NaN</td>\n",
              "      <td>NaN</td>\n",
              "      <td>NaN</td>\n",
              "      <td>NaN</td>\n",
              "      <td>NaN</td>\n",
              "      <td>NaN</td>\n",
              "      <td>NaN</td>\n",
              "      <td>NaN</td>\n",
              "      <td>NaN</td>\n",
              "      <td>NaN</td>\n",
              "      <td>NaN</td>\n",
              "      <td>NaN</td>\n",
              "      <td>NaN</td>\n",
              "      <td>NaN</td>\n",
              "      <td>NaN</td>\n",
              "      <td>NaN</td>\n",
              "    </tr>\n",
              "    <tr>\n",
              "      <th>7</th>\n",
              "      <td>2987007</td>\n",
              "      <td>0</td>\n",
              "      <td>86529</td>\n",
              "      <td>422.5</td>\n",
              "      <td>W</td>\n",
              "      <td>12695</td>\n",
              "      <td>490.0</td>\n",
              "      <td>150.0</td>\n",
              "      <td>visa</td>\n",
              "      <td>226.0</td>\n",
              "      <td>debit</td>\n",
              "      <td>325.0</td>\n",
              "      <td>87.0</td>\n",
              "      <td>NaN</td>\n",
              "      <td>NaN</td>\n",
              "      <td>mail.com</td>\n",
              "      <td>NaN</td>\n",
              "      <td>1.0</td>\n",
              "      <td>1.0</td>\n",
              "      <td>0.0</td>\n",
              "      <td>0.0</td>\n",
              "      <td>0.0</td>\n",
              "      <td>1.0</td>\n",
              "      <td>0.0</td>\n",
              "      <td>0.0</td>\n",
              "      <td>0.0</td>\n",
              "      <td>0.0</td>\n",
              "      <td>1.0</td>\n",
              "      <td>0.0</td>\n",
              "      <td>1.0</td>\n",
              "      <td>1.0</td>\n",
              "      <td>0.0</td>\n",
              "      <td>NaN</td>\n",
              "      <td>NaN</td>\n",
              "      <td>0.0</td>\n",
              "      <td>NaN</td>\n",
              "      <td>NaN</td>\n",
              "      <td>NaN</td>\n",
              "      <td>NaN</td>\n",
              "      <td>NaN</td>\n",
              "      <td>...</td>\n",
              "      <td>NaN</td>\n",
              "      <td>NaN</td>\n",
              "      <td>NaN</td>\n",
              "      <td>NaN</td>\n",
              "      <td>NaN</td>\n",
              "      <td>NaN</td>\n",
              "      <td>NaN</td>\n",
              "      <td>NaN</td>\n",
              "      <td>NaN</td>\n",
              "      <td>NaN</td>\n",
              "      <td>NaN</td>\n",
              "      <td>NaN</td>\n",
              "      <td>NaN</td>\n",
              "      <td>NaN</td>\n",
              "      <td>NaN</td>\n",
              "      <td>NaN</td>\n",
              "      <td>NaN</td>\n",
              "      <td>NaN</td>\n",
              "      <td>NaN</td>\n",
              "      <td>NaN</td>\n",
              "      <td>NaN</td>\n",
              "      <td>NaN</td>\n",
              "      <td>NaN</td>\n",
              "      <td>NaN</td>\n",
              "      <td>NaN</td>\n",
              "      <td>NaN</td>\n",
              "      <td>NaN</td>\n",
              "      <td>NaN</td>\n",
              "      <td>NaN</td>\n",
              "      <td>NaN</td>\n",
              "      <td>NaN</td>\n",
              "      <td>NaN</td>\n",
              "      <td>NaN</td>\n",
              "      <td>NaN</td>\n",
              "      <td>NaN</td>\n",
              "      <td>NaN</td>\n",
              "      <td>NaN</td>\n",
              "      <td>NaN</td>\n",
              "      <td>NaN</td>\n",
              "      <td>NaN</td>\n",
              "    </tr>\n",
              "    <tr>\n",
              "      <th>8</th>\n",
              "      <td>2987008</td>\n",
              "      <td>0</td>\n",
              "      <td>86535</td>\n",
              "      <td>15.0</td>\n",
              "      <td>H</td>\n",
              "      <td>2803</td>\n",
              "      <td>100.0</td>\n",
              "      <td>150.0</td>\n",
              "      <td>visa</td>\n",
              "      <td>226.0</td>\n",
              "      <td>debit</td>\n",
              "      <td>337.0</td>\n",
              "      <td>87.0</td>\n",
              "      <td>NaN</td>\n",
              "      <td>NaN</td>\n",
              "      <td>anonymous.com</td>\n",
              "      <td>NaN</td>\n",
              "      <td>1.0</td>\n",
              "      <td>1.0</td>\n",
              "      <td>0.0</td>\n",
              "      <td>0.0</td>\n",
              "      <td>0.0</td>\n",
              "      <td>1.0</td>\n",
              "      <td>0.0</td>\n",
              "      <td>1.0</td>\n",
              "      <td>0.0</td>\n",
              "      <td>1.0</td>\n",
              "      <td>1.0</td>\n",
              "      <td>0.0</td>\n",
              "      <td>1.0</td>\n",
              "      <td>1.0</td>\n",
              "      <td>0.0</td>\n",
              "      <td>NaN</td>\n",
              "      <td>NaN</td>\n",
              "      <td>NaN</td>\n",
              "      <td>NaN</td>\n",
              "      <td>NaN</td>\n",
              "      <td>NaN</td>\n",
              "      <td>NaN</td>\n",
              "      <td>NaN</td>\n",
              "      <td>...</td>\n",
              "      <td>-5.0</td>\n",
              "      <td>98945.0</td>\n",
              "      <td>NaN</td>\n",
              "      <td>NaN</td>\n",
              "      <td>0.0</td>\n",
              "      <td>-5.0</td>\n",
              "      <td>NaN</td>\n",
              "      <td>NaN</td>\n",
              "      <td>NaN</td>\n",
              "      <td>NaN</td>\n",
              "      <td>100.0</td>\n",
              "      <td>NotFound</td>\n",
              "      <td>49.0</td>\n",
              "      <td>-300.0</td>\n",
              "      <td>New</td>\n",
              "      <td>NotFound</td>\n",
              "      <td>166.0</td>\n",
              "      <td>NaN</td>\n",
              "      <td>621.0</td>\n",
              "      <td>500.0</td>\n",
              "      <td>NaN</td>\n",
              "      <td>NaN</td>\n",
              "      <td>NaN</td>\n",
              "      <td>NaN</td>\n",
              "      <td>NaN</td>\n",
              "      <td>NaN</td>\n",
              "      <td>NaN</td>\n",
              "      <td>New</td>\n",
              "      <td>NotFound</td>\n",
              "      <td>iOS 11.1.2</td>\n",
              "      <td>mobile safari 11.0</td>\n",
              "      <td>32.0</td>\n",
              "      <td>1334x750</td>\n",
              "      <td>match_status:1</td>\n",
              "      <td>T</td>\n",
              "      <td>F</td>\n",
              "      <td>F</td>\n",
              "      <td>T</td>\n",
              "      <td>mobile</td>\n",
              "      <td>iOS Device</td>\n",
              "    </tr>\n",
              "    <tr>\n",
              "      <th>9</th>\n",
              "      <td>2987009</td>\n",
              "      <td>0</td>\n",
              "      <td>86536</td>\n",
              "      <td>117.0</td>\n",
              "      <td>W</td>\n",
              "      <td>17399</td>\n",
              "      <td>111.0</td>\n",
              "      <td>150.0</td>\n",
              "      <td>mastercard</td>\n",
              "      <td>224.0</td>\n",
              "      <td>debit</td>\n",
              "      <td>204.0</td>\n",
              "      <td>87.0</td>\n",
              "      <td>19.0</td>\n",
              "      <td>NaN</td>\n",
              "      <td>yahoo.com</td>\n",
              "      <td>NaN</td>\n",
              "      <td>2.0</td>\n",
              "      <td>2.0</td>\n",
              "      <td>0.0</td>\n",
              "      <td>0.0</td>\n",
              "      <td>0.0</td>\n",
              "      <td>3.0</td>\n",
              "      <td>0.0</td>\n",
              "      <td>0.0</td>\n",
              "      <td>3.0</td>\n",
              "      <td>0.0</td>\n",
              "      <td>1.0</td>\n",
              "      <td>0.0</td>\n",
              "      <td>12.0</td>\n",
              "      <td>2.0</td>\n",
              "      <td>61.0</td>\n",
              "      <td>61.0</td>\n",
              "      <td>30.0</td>\n",
              "      <td>318.0</td>\n",
              "      <td>30.0</td>\n",
              "      <td>NaN</td>\n",
              "      <td>NaN</td>\n",
              "      <td>NaN</td>\n",
              "      <td>NaN</td>\n",
              "      <td>...</td>\n",
              "      <td>NaN</td>\n",
              "      <td>NaN</td>\n",
              "      <td>NaN</td>\n",
              "      <td>NaN</td>\n",
              "      <td>NaN</td>\n",
              "      <td>NaN</td>\n",
              "      <td>NaN</td>\n",
              "      <td>NaN</td>\n",
              "      <td>NaN</td>\n",
              "      <td>NaN</td>\n",
              "      <td>NaN</td>\n",
              "      <td>NaN</td>\n",
              "      <td>NaN</td>\n",
              "      <td>NaN</td>\n",
              "      <td>NaN</td>\n",
              "      <td>NaN</td>\n",
              "      <td>NaN</td>\n",
              "      <td>NaN</td>\n",
              "      <td>NaN</td>\n",
              "      <td>NaN</td>\n",
              "      <td>NaN</td>\n",
              "      <td>NaN</td>\n",
              "      <td>NaN</td>\n",
              "      <td>NaN</td>\n",
              "      <td>NaN</td>\n",
              "      <td>NaN</td>\n",
              "      <td>NaN</td>\n",
              "      <td>NaN</td>\n",
              "      <td>NaN</td>\n",
              "      <td>NaN</td>\n",
              "      <td>NaN</td>\n",
              "      <td>NaN</td>\n",
              "      <td>NaN</td>\n",
              "      <td>NaN</td>\n",
              "      <td>NaN</td>\n",
              "      <td>NaN</td>\n",
              "      <td>NaN</td>\n",
              "      <td>NaN</td>\n",
              "      <td>NaN</td>\n",
              "      <td>NaN</td>\n",
              "    </tr>\n",
              "  </tbody>\n",
              "</table>\n",
              "<p>10 rows × 434 columns</p>\n",
              "</div>"
            ],
            "text/plain": [
              "   TransactionID  isFraud  ...  DeviceType                     DeviceInfo\n",
              "0        2987000        0  ...         NaN                            NaN\n",
              "1        2987001        0  ...         NaN                            NaN\n",
              "2        2987002        0  ...         NaN                            NaN\n",
              "3        2987003        0  ...         NaN                            NaN\n",
              "4        2987004        0  ...      mobile  SAMSUNG SM-G892A Build/NRD90M\n",
              "5        2987005        0  ...         NaN                            NaN\n",
              "6        2987006        0  ...         NaN                            NaN\n",
              "7        2987007        0  ...         NaN                            NaN\n",
              "8        2987008        0  ...      mobile                     iOS Device\n",
              "9        2987009        0  ...         NaN                            NaN\n",
              "\n",
              "[10 rows x 434 columns]"
            ]
          },
          "metadata": {
            "tags": []
          },
          "execution_count": 7
        }
      ]
    },
    {
      "cell_type": "code",
      "metadata": {
        "colab": {
          "base_uri": "https://localhost:8080/"
        },
        "id": "AJZzDAQlFQOM",
        "outputId": "4ea4501b-c904-4ed5-f799-775d4cf00fcb"
      },
      "source": [
        "train.isnull().sum()"
      ],
      "execution_count": null,
      "outputs": [
        {
          "output_type": "execute_result",
          "data": {
            "text/plain": [
              "TransactionID          0\n",
              "isFraud                0\n",
              "TransactionDT          0\n",
              "TransactionAmt         0\n",
              "ProductCD              0\n",
              "                   ...  \n",
              "id_36             449555\n",
              "id_37             449555\n",
              "id_38             449555\n",
              "DeviceType        449730\n",
              "DeviceInfo        471874\n",
              "Length: 434, dtype: int64"
            ]
          },
          "metadata": {
            "tags": []
          },
          "execution_count": 8
        }
      ]
    },
    {
      "cell_type": "code",
      "metadata": {
        "colab": {
          "base_uri": "https://localhost:8080/"
        },
        "id": "Q_5z5XBTFSG9",
        "outputId": "39339878-a639-47cb-b63e-0cfea413efab"
      },
      "source": [
        "train.shape"
      ],
      "execution_count": null,
      "outputs": [
        {
          "output_type": "execute_result",
          "data": {
            "text/plain": [
              "(590540, 434)"
            ]
          },
          "metadata": {
            "tags": []
          },
          "execution_count": 9
        }
      ]
    },
    {
      "cell_type": "code",
      "metadata": {
        "id": "JwbceaPsFUIF"
      },
      "source": [
        "y = train['isFraud'].copy() #Sonraki islemlerde isFraud sutununa bisey olmasin diye o sutunu y degiskeninin icine kopyalıyoruz.\r\n",
        "train = train.drop('isFraud', axis = 1) #Daha sonra datasetten o sutunu cikariyoruz\r\n",
        "# save numpy array as npy file\r\n",
        "from numpy import asarray\r\n",
        "from numpy import save\r\n",
        "# save to npy file\r\n",
        "save('/content/drive/MyDrive/odev2/y_train.npy', np.array(y))  #sonradan kullanabilmek icin npy olarak kaydediyorum"
      ],
      "execution_count": null,
      "outputs": []
    },
    {
      "cell_type": "code",
      "metadata": {
        "id": "mFaCF1GoFaeV",
        "colab": {
          "base_uri": "https://localhost:8080/"
        },
        "outputId": "24db2664-3837-4a2d-e066-d4e2196aec62"
      },
      "source": [
        "vals = []     # Her bir sutunun % kacinin null oldugu bilgisini tasiyan bir liste olusturuyoruz\r\n",
        "for i in train:\r\n",
        "    if train[i].isnull().sum() != 0:\r\n",
        "        vals.append(train[i].isnull().sum() / train.shape[0])\r\n",
        "vals = np.array(vals)\r\n",
        "print(vals.mean())\r\n",
        "print(vals.std())"
      ],
      "execution_count": null,
      "outputs": [
        {
          "output_type": "stream",
          "text": [
            "0.4725187779497321\n",
            "0.3596947876969992\n"
          ],
          "name": "stdout"
        }
      ]
    },
    {
      "cell_type": "code",
      "metadata": {
        "id": "kE_A6_-KFduV",
        "colab": {
          "base_uri": "https://localhost:8080/"
        },
        "outputId": "3d8efc36-8e45-4baa-9100-399ba0500be4"
      },
      "source": [
        "columns = []  # columns adli bir degisken olusturuyoruz. Bunun icine sutunlarda %35ten fazlasi null(NaN) olan sutunlari atiyoruz. (Cok fazla 0 oldugu icin bu sutunlari silecegiz)\r\n",
        "for i,j in enumerate(train):\r\n",
        "    if train[j].isnull().sum()/train.shape[0] > 0.35:\r\n",
        "        columns.append(j)\r\n",
        "print(columns)\r\n",
        "print(len(columns))\r\n",
        "print(train.shape[1])"
      ],
      "execution_count": null,
      "outputs": [
        {
          "output_type": "stream",
          "text": [
            "['dist1', 'dist2', 'R_emaildomain', 'D2', 'D3', 'D5', 'D6', 'D7', 'D8', 'D9', 'D11', 'D12', 'D13', 'D14', 'M1', 'M2', 'M3', 'M4', 'M5', 'M7', 'M8', 'M9', 'V1', 'V2', 'V3', 'V4', 'V5', 'V6', 'V7', 'V8', 'V9', 'V10', 'V11', 'V138', 'V139', 'V140', 'V141', 'V142', 'V143', 'V144', 'V145', 'V146', 'V147', 'V148', 'V149', 'V150', 'V151', 'V152', 'V153', 'V154', 'V155', 'V156', 'V157', 'V158', 'V159', 'V160', 'V161', 'V162', 'V163', 'V164', 'V165', 'V166', 'V167', 'V168', 'V169', 'V170', 'V171', 'V172', 'V173', 'V174', 'V175', 'V176', 'V177', 'V178', 'V179', 'V180', 'V181', 'V182', 'V183', 'V184', 'V185', 'V186', 'V187', 'V188', 'V189', 'V190', 'V191', 'V192', 'V193', 'V194', 'V195', 'V196', 'V197', 'V198', 'V199', 'V200', 'V201', 'V202', 'V203', 'V204', 'V205', 'V206', 'V207', 'V208', 'V209', 'V210', 'V211', 'V212', 'V213', 'V214', 'V215', 'V216', 'V217', 'V218', 'V219', 'V220', 'V221', 'V222', 'V223', 'V224', 'V225', 'V226', 'V227', 'V228', 'V229', 'V230', 'V231', 'V232', 'V233', 'V234', 'V235', 'V236', 'V237', 'V238', 'V239', 'V240', 'V241', 'V242', 'V243', 'V244', 'V245', 'V246', 'V247', 'V248', 'V249', 'V250', 'V251', 'V252', 'V253', 'V254', 'V255', 'V256', 'V257', 'V258', 'V259', 'V260', 'V261', 'V262', 'V263', 'V264', 'V265', 'V266', 'V267', 'V268', 'V269', 'V270', 'V271', 'V272', 'V273', 'V274', 'V275', 'V276', 'V277', 'V278', 'V322', 'V323', 'V324', 'V325', 'V326', 'V327', 'V328', 'V329', 'V330', 'V331', 'V332', 'V333', 'V334', 'V335', 'V336', 'V337', 'V338', 'V339', 'id_01', 'id_02', 'id_03', 'id_04', 'id_05', 'id_06', 'id_07', 'id_08', 'id_09', 'id_10', 'id_11', 'id_12', 'id_13', 'id_14', 'id_15', 'id_16', 'id_17', 'id_18', 'id_19', 'id_20', 'id_21', 'id_22', 'id_23', 'id_24', 'id_25', 'id_26', 'id_27', 'id_28', 'id_29', 'id_30', 'id_31', 'id_32', 'id_33', 'id_34', 'id_35', 'id_36', 'id_37', 'id_38', 'DeviceType', 'DeviceInfo']\n",
            "232\n",
            "433\n"
          ],
          "name": "stdout"
        }
      ]
    },
    {
      "cell_type": "code",
      "metadata": {
        "id": "FOFh09euF9qN"
      },
      "source": [
        "train = train.drop(columns, axis=1) # %35 ten fazla 0 olan sutunlari siliyoruz"
      ],
      "execution_count": null,
      "outputs": []
    },
    {
      "cell_type": "code",
      "metadata": {
        "id": "dFusOmUOGGnc"
      },
      "source": [
        "\r\n",
        "for i in range(len(columns)):   #train datasinda bazi yerler \"_\" ile verilmis ama test datasinda \"-\" olarak verilmis. Train datasinda o sutunlari sildigimiz icin test datasinda da silmemiz gerek.\r\n",
        "    if \"id\" in columns[i] and \"_\" in columns[i]:  # Bu yuzden onlari degistirmemiz gerekiyor.\r\n",
        "        columns[i] = columns[i].replace(\"_\", \"-\")"
      ],
      "execution_count": null,
      "outputs": []
    },
    {
      "cell_type": "code",
      "metadata": {
        "id": "nmNeSUnbGUG-"
      },
      "source": [
        "test = test.drop(columns, axis = 1)  # Burada o sutunlari test datasindan da atiyoruz"
      ],
      "execution_count": null,
      "outputs": []
    },
    {
      "cell_type": "code",
      "metadata": {
        "colab": {
          "base_uri": "https://localhost:8080/"
        },
        "id": "t3CkmHLMGW7N",
        "outputId": "e67e4999-774e-442a-9633-22b376d61ca9"
      },
      "source": [
        "print(test.shape) # en son train ve test datamiz ne hale gelmis gormek icin yazdik (satir sayisi yani veri sayisi , sutun sayisi yani parametre sayisi)\r\n",
        "print(train.shape)"
      ],
      "execution_count": null,
      "outputs": [
        {
          "output_type": "stream",
          "text": [
            "(506691, 201)\n",
            "(590540, 201)\n"
          ],
          "name": "stdout"
        }
      ]
    },
    {
      "cell_type": "code",
      "metadata": {
        "id": "2LL87VWKGb_0"
      },
      "source": [
        "all_data = pd.concat([train, test]) # tum datayi birlestiriyoruz\r\n",
        "del train\r\n",
        "del test"
      ],
      "execution_count": null,
      "outputs": []
    },
    {
      "cell_type": "code",
      "metadata": {
        "colab": {
          "base_uri": "https://localhost:8080/"
        },
        "id": "_ODtrPNBGejc",
        "outputId": "84bcb187-0473-414f-ba48-905f23469700"
      },
      "source": [
        "all_data.shape  # Tum datanin sekli"
      ],
      "execution_count": null,
      "outputs": [
        {
          "output_type": "execute_result",
          "data": {
            "text/plain": [
              "(1097231, 201)"
            ]
          },
          "metadata": {
            "tags": []
          },
          "execution_count": 21
        }
      ]
    },
    {
      "cell_type": "code",
      "metadata": {
        "colab": {
          "base_uri": "https://localhost:8080/"
        },
        "id": "rUke3kNAGgcc",
        "outputId": "41fdd290-7f5d-4dcc-aab7-bf195e0a5b9b"
      },
      "source": [
        "all_data.isnull().sum().sum() # Tum datada kac tane 0 olduguna bakmak istedik. Gerekli degil"
      ],
      "execution_count": null,
      "outputs": [
        {
          "output_type": "execute_result",
          "data": {
            "text/plain": [
              "11805499"
            ]
          },
          "metadata": {
            "tags": []
          },
          "execution_count": 22
        }
      ]
    },
    {
      "cell_type": "code",
      "metadata": {
        "id": "P84LaucPGijc"
      },
      "source": [
        "all_data.drop('TransactionID', axis=1, inplace=True) # Transaction id sirali bir sekilde artan bir parametre. Hicbir matematiksel anlami yok o yuzden cikarmamiz gerekiyor"
      ],
      "execution_count": null,
      "outputs": []
    },
    {
      "cell_type": "code",
      "metadata": {
        "colab": {
          "base_uri": "https://localhost:8080/"
        },
        "id": "_YBfk9wSGks8",
        "outputId": "143144d3-6235-4bd2-f2aa-60d9b4943557"
      },
      "source": [
        "counter = 0    #Kac sutunda en az 1 null var gormek istedik o yuzden baktik\r\n",
        "for i in all_data:\r\n",
        "    if all_data[i].isnull().sum() != 0:\r\n",
        "        counter += 1\r\n",
        "print(counter)"
      ],
      "execution_count": null,
      "outputs": [
        {
          "output_type": "stream",
          "text": [
            "196\n"
          ],
          "name": "stdout"
        }
      ]
    },
    {
      "cell_type": "code",
      "metadata": {
        "colab": {
          "base_uri": "https://localhost:8080/"
        },
        "id": "Bd_TgOiXGyR0",
        "outputId": "12ba8ee2-974f-4518-e611-85c7e85173f2"
      },
      "source": [
        "for i,j in enumerate(all_data):   # null olan degerleri bir sekilde doldurmamiz lazim. Bunun icin en basit yontem o sutunun mean'ini koymak olurdu fakat biz biraz daha iyi sonuca alabilmek icin Quantile islemi uyguladik.\r\n",
        "    if all_data[j].isnull().sum() >0 and j not in ['card4', 'card6', 'P_emaildomain', 'M6', 'ProductCD']: #\r\n",
        "        vals = np.array([value for value in all_data[j].values if not np.isnan(value)])\r\n",
        "        Q1 = np.quantile(vals,0.25)   #Q1 quantile'ini aldik\r\n",
        "        Q3 = np.quantile(vals,0.75)   #Q3 quantile'ini aldik\r\n",
        "        range = (Q3 - Q1)*1.5         #Quantile hesabi icin 1.5 ile carpip Q3'e ekleyerek , Q1'den ise cikararak islem yapmamiz lazim.\r\n",
        "        clean = np.array([value for value in vals if value <= Q3+range and value >= Q1-range ]) # Outlier'lari cikardik\r\n",
        "        if clean.size > 0:               # Outlierlari cikarinca kalan dizinin boyutu 0'dan buyuk ise\r\n",
        "            if clean.std()/clean.max() - clean.min() > 0.45:    #Eger standart sapma %45 ten buyuk ise bosluklari median ile doldur. Dusuk ise bosluklari mean ile doldur\r\n",
        "                fill = np.median(clean)   \r\n",
        "                all_data[j].fillna(fill ,inplace = True)  # Bos degerleri median ile doldur\r\n",
        "            else:\r\n",
        "                all_data[j].fillna(clean.mean() ,inplace = True)  # Bos degerleri mean ile doldur\r\n",
        "del range"
      ],
      "execution_count": null,
      "outputs": [
        {
          "output_type": "stream",
          "text": [
            "/usr/local/lib/python3.6/dist-packages/ipykernel_launcher.py:9: RuntimeWarning: invalid value encountered in double_scalars\n",
            "  if __name__ == '__main__':\n"
          ],
          "name": "stderr"
        }
      ]
    },
    {
      "cell_type": "code",
      "metadata": {
        "id": "nsld2-bjHgdD"
      },
      "source": [
        "all_data['card4'] = all_data['card4'].fillna(all_data['card4'].mode()[0])   # Kategorik sutunlardaki bosluklari moduyla doldurduk.\r\n",
        "all_data['card6'] = all_data['card6'].fillna(all_data['card6'].mode()[0])\r\n",
        "all_data['M6'] = all_data['M6'].fillna(all_data['M6'].mode()[0])\r\n",
        "all_data['P_emaildomain'] = all_data['P_emaildomain'].fillna(all_data['P_emaildomain'].mode()[0])\r\n",
        "all_data['ProductCD'] = all_data['ProductCD'].fillna(all_data['ProductCD'].mode()[0])"
      ],
      "execution_count": null,
      "outputs": []
    },
    {
      "cell_type": "code",
      "metadata": {
        "colab": {
          "base_uri": "https://localhost:8080/"
        },
        "id": "uMawJ-9rHj68",
        "outputId": "7f575f70-7405-49ac-b249-81c8bbc74051"
      },
      "source": [
        "all_data.isnull().sum()"
      ],
      "execution_count": null,
      "outputs": [
        {
          "output_type": "execute_result",
          "data": {
            "text/plain": [
              "TransactionDT     0\n",
              "TransactionAmt    0\n",
              "ProductCD         0\n",
              "card1             0\n",
              "card2             0\n",
              "                 ..\n",
              "V317              0\n",
              "V318              0\n",
              "V319              0\n",
              "V320              0\n",
              "V321              0\n",
              "Length: 200, dtype: int64"
            ]
          },
          "metadata": {
            "tags": []
          },
          "execution_count": 27
        }
      ]
    },
    {
      "cell_type": "code",
      "metadata": {
        "id": "YiSS1GS9Hl2k"
      },
      "source": [
        "from sklearn.preprocessing import StandardScaler  # Butun veriyi ayni aralik olacak sekilde olceklendirdik\r\n",
        "sc = StandardScaler()\r\n",
        "for i,j in enumerate(all_data):\r\n",
        "    if all_data[j].dtype != 'O':\r\n",
        "        column = all_data[j].values.copy()\r\n",
        "        column = sc.fit_transform(column.reshape(column.shape[0],1))\r\n",
        "        all_data[j] = column.copy()"
      ],
      "execution_count": null,
      "outputs": []
    },
    {
      "cell_type": "code",
      "metadata": {
        "id": "iNBUYkAmIV3E"
      },
      "source": [
        "arr = ['card4', 'card6', 'P_emaildomain', 'M6', 'ProductCD']  #One hot encoder ile sutunu duzenledik. Daha sonra bu sutunlari sildik\r\n",
        "for i in arr:\r\n",
        "    dummies = pd.get_dummies(all_data[i])\r\n",
        "    all_data = pd.concat([all_data,dummies], axis = 1)\r\n",
        "    all_data.drop(i, axis = 1, inplace = True)"
      ],
      "execution_count": null,
      "outputs": []
    },
    {
      "cell_type": "code",
      "metadata": {
        "id": "QwfaZbtYIoGU"
      },
      "source": [
        "#all_data.to_pickle('/content/drive/MyDrive/odev2/anil.pkl', protocol=4)    #bu islemler sonucunda cikan all_data 'yi daha sonra kolayca kullanabilmek icin yukledik\r\n",
        "del train     # train ve test datasina ihtiyacimiz kalmadi silebiliriz\r\n",
        "del test"
      ],
      "execution_count": null,
      "outputs": []
    },
    {
      "cell_type": "code",
      "metadata": {
        "id": "BDVrKHXc1LJ-"
      },
      "source": [
        "from numpy import load\r\n",
        "y = load('/content/drive/MyDrive/odev2/y_train.npy')   # y ve all_data'yı daha sonradan projeye dondugumuzde kolayca alabilmek icin\r\n",
        "all_data = pd.read_pickle('/content/drive/MyDrive/odev2/anil.pkl')  "
      ],
      "execution_count": null,
      "outputs": []
    },
    {
      "cell_type": "code",
      "metadata": {
        "id": "JkflfmsOI-9V"
      },
      "source": [
        "train = all_data.iloc[:590540, :] # train ve test datamizi basta belirtilen sekilde ikiye ayirdik\r\n",
        "test = all_data.iloc[590540:, :]"
      ],
      "execution_count": null,
      "outputs": []
    },
    {
      "cell_type": "code",
      "metadata": {
        "id": "A9LwtfmuJD37"
      },
      "source": [
        "from sklearn.model_selection import train_test_split    # datamizi X_train,X_test,y_train,y_test olarak ayirdik artik model olusturmaya gecebiliriz. Datamiz hazir.\r\n",
        "X_train, X_test, y_train, y_test = train_test_split(train, y, test_size=0.3)"
      ],
      "execution_count": null,
      "outputs": []
    },
    {
      "cell_type": "code",
      "metadata": {
        "colab": {
          "base_uri": "https://localhost:8080/"
        },
        "id": "QXfdKqOeJFzc",
        "outputId": "fd6556e5-f609-4111-a056-4a813def8a31"
      },
      "source": [
        "y_train"
      ],
      "execution_count": null,
      "outputs": [
        {
          "output_type": "execute_result",
          "data": {
            "text/plain": [
              "264917    0\n",
              "322697    0\n",
              "244659    0\n",
              "66589     0\n",
              "288658    0\n",
              "         ..\n",
              "420736    0\n",
              "547614    0\n",
              "433710    0\n",
              "401453    0\n",
              "402466    0\n",
              "Name: isFraud, Length: 413378, dtype: int64"
            ]
          },
          "metadata": {
            "tags": []
          },
          "execution_count": 14
        }
      ]
    },
    {
      "cell_type": "markdown",
      "metadata": {
        "id": "goYcSflTVAnk"
      },
      "source": [
        "# Models"
      ]
    },
    {
      "cell_type": "markdown",
      "metadata": {
        "id": "oT6cfiZMTOEZ"
      },
      "source": [
        "# Random Forest\r\n",
        "F1 Score: 0.61"
      ]
    },
    {
      "cell_type": "code",
      "metadata": {
        "id": "0MrG_LZ11Wgo"
      },
      "source": [
        "from sklearn.ensemble import RandomForestClassifier   #Modelleri olusturmak icin gerekli importlar\r\n",
        "from sklearn.naive_bayes import GaussianNB\r\n",
        "import tensorflow as tf \r\n",
        "from tensorflow import keras \r\n",
        "from keras.models import Sequential \r\n",
        "from keras.layers import Dense,Dropout,LeakyReLU\r\n",
        "from keras.callbacks import EarlyStopping\r\n",
        "from sklearn.metrics import f1_score, roc_auc_score"
      ],
      "execution_count": null,
      "outputs": []
    },
    {
      "cell_type": "code",
      "metadata": {
        "id": "gNQ69YWm1XT4"
      },
      "source": [
        "model=RandomForestClassifier( # Modelin daha iyi olmasi icin daha iyi preprocessing yapilabilir. Parametre optimizasyonu yapilabilir. Bu modelin adi RandomForest\r\n",
        "    n_estimators= 300,\r\n",
        "    max_depth=50,\r\n",
        "    criterion='entropy',\r\n",
        "    max_features='sqrt'\r\n",
        ")\r\n",
        "model.fit(X_train,y_train)    # modelin egitilmesi\r\n",
        "acc = model.score(X_test,y_test)\r\n",
        "pred = model.predict(X_test)"
      ],
      "execution_count": null,
      "outputs": []
    },
    {
      "cell_type": "code",
      "metadata": {
        "colab": {
          "base_uri": "https://localhost:8080/"
        },
        "id": "69VoCDIF1XRO",
        "outputId": "16941810-1a64-4535-9253-fe25a1b4c5b0"
      },
      "source": [
        "f1 = f1_score(y_test, pred)   # Random forestın sonucu burada daha cok bizi F1 score ilgilendiriyor\r\n",
        "print('Accuracy:',acc )\r\n",
        "print('f1 score:',f1)"
      ],
      "execution_count": null,
      "outputs": [
        {
          "output_type": "stream",
          "text": [
            "Accuracy: 0.9804021178356532\n",
            "f1 score: 0.61753690240141\n"
          ],
          "name": "stdout"
        }
      ]
    },
    {
      "cell_type": "markdown",
      "metadata": {
        "id": "GEJSxR3KTfH_"
      },
      "source": [
        "# Neural Network (5 Hidden Layer)\r\n",
        "F1 Score: 0.65"
      ]
    },
    {
      "cell_type": "code",
      "metadata": {
        "id": "JtQvUxah6Q8r"
      },
      "source": [
        "nn = Sequential()   # Neural Network Yapisi ile ikinci model\r\n",
        "\r\n",
        "nn.add(Dense(2048, activation='relu'))\r\n",
        "nn.add(Dropout(0.3))\r\n",
        "\r\n",
        "nn.add(Dense(1024, activation='relu'))\r\n",
        "nn.add(Dropout(0.3))\r\n",
        "\r\n",
        "nn.add(Dense(512, activation='relu'))\r\n",
        "nn.add(Dropout(0.3))\r\n",
        "\r\n",
        "nn.add(Dense(256, activation='relu'))\r\n",
        "nn.add(Dropout(0.3))\r\n",
        "\r\n",
        "nn.add(Dense(128, activation='relu'))\r\n",
        "nn.add(Dropout(0.3))\r\n",
        "\r\n",
        "nn.add(Dense(1, activation='sigmoid'))\r\n",
        "\r\n",
        "nn.compile(optimizer='adam', loss='binary_crossentropy', metrics=['accuracy'])"
      ],
      "execution_count": null,
      "outputs": []
    },
    {
      "cell_type": "code",
      "metadata": {
        "colab": {
          "base_uri": "https://localhost:8080/"
        },
        "id": "WiuB-jFSD-zP",
        "outputId": "4b2080cd-9ed0-4b8e-fccc-5a973cb37aae"
      },
      "source": [
        "nn.fit(X_train, y_train, batch_size=5000, epochs=100,callbacks=[EarlyStopping(monitor='val_loss', patience=5)], validation_data=(X_test,y_test)) # modelin egitilmesi"
      ],
      "execution_count": null,
      "outputs": [
        {
          "output_type": "stream",
          "text": [
            "Epoch 1/100\n",
            "83/83 [==============================] - 6s 47ms/step - loss: 0.1854 - accuracy: 0.9532 - val_loss: 0.1232 - val_accuracy: 0.9705\n",
            "Epoch 2/100\n",
            "83/83 [==============================] - 3s 37ms/step - loss: 0.1125 - accuracy: 0.9696 - val_loss: 0.1057 - val_accuracy: 0.9726\n",
            "Epoch 3/100\n",
            "83/83 [==============================] - 3s 37ms/step - loss: 0.1041 - accuracy: 0.9717 - val_loss: 0.0973 - val_accuracy: 0.9731\n",
            "Epoch 4/100\n",
            "83/83 [==============================] - 3s 37ms/step - loss: 0.0984 - accuracy: 0.9729 - val_loss: 0.0980 - val_accuracy: 0.9742\n",
            "Epoch 5/100\n",
            "83/83 [==============================] - 3s 37ms/step - loss: 0.0943 - accuracy: 0.9739 - val_loss: 0.0971 - val_accuracy: 0.9752\n",
            "Epoch 6/100\n",
            "83/83 [==============================] - 3s 37ms/step - loss: 0.0903 - accuracy: 0.9750 - val_loss: 0.0892 - val_accuracy: 0.9755\n",
            "Epoch 7/100\n",
            "83/83 [==============================] - 3s 37ms/step - loss: 0.0876 - accuracy: 0.9759 - val_loss: 0.0932 - val_accuracy: 0.9759\n",
            "Epoch 8/100\n",
            "83/83 [==============================] - 3s 37ms/step - loss: 0.0841 - accuracy: 0.9765 - val_loss: 0.0864 - val_accuracy: 0.9762\n",
            "Epoch 9/100\n",
            "83/83 [==============================] - 3s 37ms/step - loss: 0.0811 - accuracy: 0.9772 - val_loss: 0.0841 - val_accuracy: 0.9770\n",
            "Epoch 10/100\n",
            "83/83 [==============================] - 3s 37ms/step - loss: 0.0794 - accuracy: 0.9776 - val_loss: 0.0825 - val_accuracy: 0.9773\n",
            "Epoch 11/100\n",
            "83/83 [==============================] - 3s 38ms/step - loss: 0.0777 - accuracy: 0.9783 - val_loss: 0.0809 - val_accuracy: 0.9773\n",
            "Epoch 12/100\n",
            "83/83 [==============================] - 3s 37ms/step - loss: 0.0755 - accuracy: 0.9789 - val_loss: 0.0802 - val_accuracy: 0.9779\n",
            "Epoch 13/100\n",
            "83/83 [==============================] - 3s 38ms/step - loss: 0.0729 - accuracy: 0.9794 - val_loss: 0.0777 - val_accuracy: 0.9784\n",
            "Epoch 14/100\n",
            "83/83 [==============================] - 3s 38ms/step - loss: 0.0723 - accuracy: 0.9794 - val_loss: 0.0775 - val_accuracy: 0.9788\n",
            "Epoch 15/100\n",
            "83/83 [==============================] - 3s 38ms/step - loss: 0.0705 - accuracy: 0.9800 - val_loss: 0.0779 - val_accuracy: 0.9785\n",
            "Epoch 16/100\n",
            "83/83 [==============================] - 3s 38ms/step - loss: 0.0687 - accuracy: 0.9804 - val_loss: 0.0799 - val_accuracy: 0.9787\n",
            "Epoch 17/100\n",
            "83/83 [==============================] - 3s 38ms/step - loss: 0.0678 - accuracy: 0.9807 - val_loss: 0.0775 - val_accuracy: 0.9790\n",
            "Epoch 18/100\n",
            "83/83 [==============================] - 3s 38ms/step - loss: 0.0661 - accuracy: 0.9812 - val_loss: 0.0750 - val_accuracy: 0.9793\n",
            "Epoch 19/100\n",
            "83/83 [==============================] - 3s 38ms/step - loss: 0.0656 - accuracy: 0.9814 - val_loss: 0.0768 - val_accuracy: 0.9798\n",
            "Epoch 20/100\n",
            "83/83 [==============================] - 3s 38ms/step - loss: 0.0621 - accuracy: 0.9824 - val_loss: 0.0746 - val_accuracy: 0.9800\n",
            "Epoch 21/100\n",
            "83/83 [==============================] - 3s 38ms/step - loss: 0.0617 - accuracy: 0.9824 - val_loss: 0.0744 - val_accuracy: 0.9800\n",
            "Epoch 22/100\n",
            "83/83 [==============================] - 3s 39ms/step - loss: 0.0608 - accuracy: 0.9826 - val_loss: 0.0744 - val_accuracy: 0.9801\n",
            "Epoch 23/100\n",
            "83/83 [==============================] - 3s 38ms/step - loss: 0.0611 - accuracy: 0.9826 - val_loss: 0.0737 - val_accuracy: 0.9801\n",
            "Epoch 24/100\n",
            "83/83 [==============================] - 3s 38ms/step - loss: 0.0583 - accuracy: 0.9833 - val_loss: 0.0744 - val_accuracy: 0.9801\n",
            "Epoch 25/100\n",
            "83/83 [==============================] - 3s 39ms/step - loss: 0.0572 - accuracy: 0.9837 - val_loss: 0.0744 - val_accuracy: 0.9801\n",
            "Epoch 26/100\n",
            "83/83 [==============================] - 3s 39ms/step - loss: 0.0572 - accuracy: 0.9834 - val_loss: 0.0737 - val_accuracy: 0.9802\n",
            "Epoch 27/100\n",
            "83/83 [==============================] - 3s 39ms/step - loss: 0.0555 - accuracy: 0.9837 - val_loss: 0.0726 - val_accuracy: 0.9803\n",
            "Epoch 28/100\n",
            "83/83 [==============================] - 3s 39ms/step - loss: 0.0552 - accuracy: 0.9841 - val_loss: 0.0738 - val_accuracy: 0.9807\n",
            "Epoch 29/100\n",
            "83/83 [==============================] - 3s 39ms/step - loss: 0.0532 - accuracy: 0.9844 - val_loss: 0.0733 - val_accuracy: 0.9808\n",
            "Epoch 30/100\n",
            "83/83 [==============================] - 3s 39ms/step - loss: 0.0528 - accuracy: 0.9845 - val_loss: 0.0751 - val_accuracy: 0.9808\n",
            "Epoch 31/100\n",
            "83/83 [==============================] - 3s 40ms/step - loss: 0.0522 - accuracy: 0.9849 - val_loss: 0.0744 - val_accuracy: 0.9811\n",
            "Epoch 32/100\n",
            "83/83 [==============================] - 3s 39ms/step - loss: 0.0514 - accuracy: 0.9847 - val_loss: 0.0745 - val_accuracy: 0.9806\n"
          ],
          "name": "stdout"
        },
        {
          "output_type": "execute_result",
          "data": {
            "text/plain": [
              "<tensorflow.python.keras.callbacks.History at 0x7fc5201f57b8>"
            ]
          },
          "metadata": {
            "tags": []
          },
          "execution_count": 9
        }
      ]
    },
    {
      "cell_type": "code",
      "metadata": {
        "colab": {
          "base_uri": "https://localhost:8080/"
        },
        "id": "DC1oMqfj6QyV",
        "outputId": "08a85c16-ead8-4e5f-a580-bba2b8fa577b"
      },
      "source": [
        "pred = list(map(lambda x: 1 if x > 0.5 else 0 ,nn.predict(X_test))) #neural networkun sonucları\r\n",
        "f1 = f1_score(y_test, pred)\r\n",
        "print('f1 score:',f1)"
      ],
      "execution_count": null,
      "outputs": [
        {
          "output_type": "stream",
          "text": [
            "f1 score: 0.6587088431314035\n"
          ],
          "name": "stdout"
        }
      ]
    },
    {
      "cell_type": "code",
      "metadata": {
        "colab": {
          "base_uri": "https://localhost:8080/"
        },
        "id": "2lN7Y5MHaWum",
        "outputId": "f7bef44b-c421-4e23-f799-3d5da2830781"
      },
      "source": [
        "from numpy import loadtxt\r\n",
        "from sklearn.metrics import accuracy_score\r\n",
        "import os\r\n",
        "from sklearn.preprocessing import StandardScaler\r\n",
        "from sklearn.model_selection import train_test_split\r\n",
        "from sklearn import metrics\r\n",
        "from sklearn.metrics import f1_score, roc_auc_score\r\n",
        "from sklearn.linear_model import LogisticRegression\r\n",
        "from sklearn.ensemble import RandomForestClassifier\r\n",
        "from sklearn.model_selection import GridSearchCV\r\n",
        "from sklearn.neural_network import MLPClassifier\r\n",
        "from imblearn.pipeline import make_pipeline as make_pipeline_imb\r\n",
        "from imblearn.over_sampling import SMOTE\r\n",
        "from imblearn.metrics import classification_report_imbalanced\r\n",
        "import xgboost as xgb\r\n",
        "from xgboost import XGBClassifier\r\n",
        "import pandas as pd\r\n",
        "import matplotlib.pyplot as plt\r\n",
        "from collections import Counter\r\n",
        "import time"
      ],
      "execution_count": null,
      "outputs": [
        {
          "output_type": "stream",
          "text": [
            "/usr/local/lib/python3.6/dist-packages/sklearn/externals/six.py:31: FutureWarning: The module is deprecated in version 0.21 and will be removed in version 0.23 since we've dropped support for Python 2.7. Please rely on the official version of six (https://pypi.org/project/six/).\n",
            "  \"(https://pypi.org/project/six/).\", FutureWarning)\n",
            "/usr/local/lib/python3.6/dist-packages/sklearn/utils/deprecation.py:144: FutureWarning: The sklearn.neighbors.base module is  deprecated in version 0.22 and will be removed in version 0.24. The corresponding classes / functions should instead be imported from sklearn.neighbors. Anything that cannot be imported from sklearn.neighbors is now part of the private API.\n",
            "  warnings.warn(message, FutureWarning)\n",
            "/usr/local/lib/python3.6/dist-packages/sklearn/utils/deprecation.py:144: FutureWarning: The sklearn.metrics.classification module is  deprecated in version 0.22 and will be removed in version 0.24. The corresponding classes / functions should instead be imported from sklearn.metrics. Anything that cannot be imported from sklearn.metrics is now part of the private API.\n",
            "  warnings.warn(message, FutureWarning)\n"
          ],
          "name": "stderr"
        }
      ]
    },
    {
      "cell_type": "code",
      "metadata": {
        "id": "x2D8xZ7Ddeyt"
      },
      "source": [
        "from sklearn.model_selection import train_test_split\r\n",
        "X_train, X_test, y_train, y_test = train_test_split(train, y, test_size=0.3)"
      ],
      "execution_count": null,
      "outputs": []
    },
    {
      "cell_type": "markdown",
      "metadata": {
        "id": "HkziUE9sgJuN"
      },
      "source": [
        "# XgBoost Default\r\n",
        "\r\n",
        "1.   Time: 3min 36s\r\n",
        "2.   Kaggle Score : 0.683979\r\n",
        "\r\n"
      ]
    },
    {
      "cell_type": "code",
      "metadata": {
        "colab": {
          "base_uri": "https://localhost:8080/"
        },
        "id": "16yjgN3_eDyM",
        "outputId": "790125bb-5abf-4505-920d-e68d98ac4a38"
      },
      "source": [
        "%%time\r\n",
        "modelXG=XGBClassifier()\r\n",
        "modelXG.fit(X_train,y_train)\r\n",
        "\r\n",
        "print(\"Start Predicting\")\r\n",
        "predictions = modelXG.predict(X_test)\r\n",
        "pred_proba = modelXG.predict_proba(X_test)[:, 1]\r\n",
        "\r\n",
        "print(\"\\nResulting Metrics\")\r\n",
        "print(\"Accuracy : %.4g\" % metrics.accuracy_score(y_test, predictions))\r\n",
        "print(\"AUC : %f\" % metrics.roc_auc_score(y_test, pred_proba))\r\n",
        "print(\"F1 Score : %f\" % metrics.f1_score(y_test, predictions))\r\n"
      ],
      "execution_count": null,
      "outputs": [
        {
          "output_type": "stream",
          "text": [
            "Start Predicting\n",
            "\n",
            "Resulting Metrics\n",
            "Accuracy : 0.9729\n",
            "AUC : 0.887473\n",
            "F1 Score : 0.400250\n",
            "CPU times: user 3min 35s, sys: 1.29 s, total: 3min 36s\n",
            "Wall time: 3min 36s\n"
          ],
          "name": "stdout"
        }
      ]
    },
    {
      "cell_type": "code",
      "metadata": {
        "id": "Lrc5sLm9TMw8"
      },
      "source": [
        "pred = modelXG.predict(test)    #0.683979\r\n",
        "pred = pd.DataFrame(pred, columns=['isFraud'])\r\n",
        "t_id = [i for i in range(3663549,4170240)]\r\n",
        "pred[\"TransactionID\"] = t_id\r\n",
        "pred.set_index(\"TransactionID\", inplace=True)\r\n",
        "pred.to_csv(\"/content/drive/MyDrive/odev2/xgBoost_default2.csv\")"
      ],
      "execution_count": null,
      "outputs": []
    },
    {
      "cell_type": "code",
      "metadata": {
        "colab": {
          "base_uri": "https://localhost:8080/"
        },
        "id": "B2ti-KOdeR47",
        "outputId": "948e91a6-dc9a-4d2e-e384-062145ca71b3"
      },
      "source": [
        "!pip install catboost"
      ],
      "execution_count": null,
      "outputs": [
        {
          "output_type": "stream",
          "text": [
            "Collecting catboost\n",
            "\u001b[?25l  Downloading https://files.pythonhosted.org/packages/20/37/bc4e0ddc30c07a96482abf1de7ed1ca54e59bba2026a33bca6d2ef286e5b/catboost-0.24.4-cp36-none-manylinux1_x86_64.whl (65.7MB)\n",
            "\u001b[K     |████████████████████████████████| 65.8MB 47kB/s \n",
            "\u001b[?25hRequirement already satisfied: plotly in /usr/local/lib/python3.6/dist-packages (from catboost) (4.4.1)\n",
            "Requirement already satisfied: scipy in /usr/local/lib/python3.6/dist-packages (from catboost) (1.4.1)\n",
            "Requirement already satisfied: six in /usr/local/lib/python3.6/dist-packages (from catboost) (1.15.0)\n",
            "Requirement already satisfied: pandas>=0.24.0 in /usr/local/lib/python3.6/dist-packages (from catboost) (1.1.5)\n",
            "Requirement already satisfied: numpy>=1.16.0 in /usr/local/lib/python3.6/dist-packages (from catboost) (1.19.4)\n",
            "Requirement already satisfied: graphviz in /usr/local/lib/python3.6/dist-packages (from catboost) (0.10.1)\n",
            "Requirement already satisfied: matplotlib in /usr/local/lib/python3.6/dist-packages (from catboost) (3.2.2)\n",
            "Requirement already satisfied: retrying>=1.3.3 in /usr/local/lib/python3.6/dist-packages (from plotly->catboost) (1.3.3)\n",
            "Requirement already satisfied: python-dateutil>=2.7.3 in /usr/local/lib/python3.6/dist-packages (from pandas>=0.24.0->catboost) (2.8.1)\n",
            "Requirement already satisfied: pytz>=2017.2 in /usr/local/lib/python3.6/dist-packages (from pandas>=0.24.0->catboost) (2018.9)\n",
            "Requirement already satisfied: pyparsing!=2.0.4,!=2.1.2,!=2.1.6,>=2.0.1 in /usr/local/lib/python3.6/dist-packages (from matplotlib->catboost) (2.4.7)\n",
            "Requirement already satisfied: cycler>=0.10 in /usr/local/lib/python3.6/dist-packages (from matplotlib->catboost) (0.10.0)\n",
            "Requirement already satisfied: kiwisolver>=1.0.1 in /usr/local/lib/python3.6/dist-packages (from matplotlib->catboost) (1.3.1)\n",
            "Installing collected packages: catboost\n",
            "Successfully installed catboost-0.24.4\n"
          ],
          "name": "stdout"
        }
      ]
    },
    {
      "cell_type": "code",
      "metadata": {
        "id": "9qGVy8VdMVPH"
      },
      "source": [
        "from catboost import Pool, CatBoostClassifier, cv"
      ],
      "execution_count": null,
      "outputs": []
    },
    {
      "cell_type": "markdown",
      "metadata": {
        "id": "5SX0_x0Ug4pR"
      },
      "source": [
        "# CatBoost Default\r\n",
        "\r\n",
        "\r\n",
        "1.   Time: 18.5s\r\n",
        "2.   Kaggle Score : 0.715378\r\n",
        "\r\n"
      ]
    },
    {
      "cell_type": "code",
      "metadata": {
        "id": "D_Wf4Z8HMlYU"
      },
      "source": [
        "%%time\r\n",
        "#model = CatBoostClassifier(eval_metric='Accuracy',use_best_model=True,random_seed=42)\r\n",
        "model = CatBoostClassifier(task_type='GPU',eval_metric='Accuracy',random_seed=42)\r\n",
        "\r\n",
        "#now just to make the model to fit the data\r\n",
        "model.fit(X_train,y_train,eval_set=(X_test,y_test))"
      ],
      "execution_count": null,
      "outputs": []
    },
    {
      "cell_type": "code",
      "metadata": {
        "colab": {
          "base_uri": "https://localhost:8080/"
        },
        "id": "zt1Z1_JAMnyU",
        "outputId": "94966e12-c2e2-4874-b832-14d6deac21ca"
      },
      "source": [
        "print(\"Start Predicting\")\r\n",
        "predictions = model.predict(X_test)\r\n",
        "pred_proba = model.predict_proba(X_test)[:, 1]\r\n",
        "\r\n",
        "print(\"\\nResulting Metrics\")\r\n",
        "print(\"Accuracy : %.4g\" % metrics.accuracy_score(y_test, predictions))\r\n",
        "print(\"AUC : %f\" % metrics.roc_auc_score(y_test, pred_proba))\r\n",
        "print(\"F1 Score : %f\" % metrics.f1_score(y_test, predictions))"
      ],
      "execution_count": null,
      "outputs": [
        {
          "output_type": "stream",
          "text": [
            "Start Predicting\n",
            "\n",
            "Resulting Metrics\n",
            "Accuracy : 0.9781\n",
            "AUC : 0.913500\n",
            "F1 Score : 0.565378\n"
          ],
          "name": "stdout"
        }
      ]
    },
    {
      "cell_type": "code",
      "metadata": {
        "id": "9SCJkAEdQ32N"
      },
      "source": [
        "pred = model.predict(test)    # score = 0.715378\r\n",
        "pred = pd.DataFrame(pred, columns=['isFraud'])\r\n",
        "t_id = [i for i in range(3663549,4170240)]\r\n",
        "pred[\"TransactionID\"] = t_id\r\n",
        "pred.set_index(\"TransactionID\", inplace=True)\r\n",
        "pred.to_csv(\"/content/drive/MyDrive/odev2/catboost_default3.csv\")"
      ],
      "execution_count": null,
      "outputs": []
    },
    {
      "cell_type": "markdown",
      "metadata": {
        "id": "2z07vOgSniFg"
      },
      "source": [
        "# Hyperparameter Optimization"
      ]
    },
    {
      "cell_type": "markdown",
      "metadata": {
        "id": "i_r3X0d7nva9"
      },
      "source": [
        "# Random Search For CatBoost\r\n",
        "\r\n",
        "1.   Kaggle Score= 0.710191\r\n",
        "2.   Time: 68s\r\n",
        "\r\n"
      ]
    },
    {
      "cell_type": "code",
      "metadata": {
        "id": "tkZemVcLX5KZ"
      },
      "source": [
        "\r\n",
        "from sklearn.model_selection import RandomizedSearchCV\r\n",
        "from scipy.stats import uniform as sp_randFloat\r\n",
        "from scipy.stats import randint as sp_randInt  \r\n",
        "\r\n",
        "parameters = {'depth'         : sp_randInt(1, 10),\r\n",
        "              'learning_rate' : sp_randFloat(),\r\n",
        "              'iterations'    : sp_randInt(10, 100)\r\n",
        "}\r\n",
        "    \r\n",
        "randm = RandomizedSearchCV(estimator=model, param_distributions = parameters, \r\n",
        "                               cv = 2, n_iter = 10)\r\n",
        "randm.fit(X_train, y_train, eval_set=(X_test,y_test))"
      ],
      "execution_count": null,
      "outputs": []
    },
    {
      "cell_type": "code",
      "metadata": {
        "colab": {
          "base_uri": "https://localhost:8080/"
        },
        "id": "jFKwnMHSn6dk",
        "outputId": "904e5334-392e-44be-a3ec-16d8086febad"
      },
      "source": [
        "randm.best_estimator_"
      ],
      "execution_count": null,
      "outputs": [
        {
          "output_type": "execute_result",
          "data": {
            "text/plain": [
              "<catboost.core.CatBoostClassifier at 0x7f952e846550>"
            ]
          },
          "metadata": {
            "tags": []
          },
          "execution_count": 46
        }
      ]
    },
    {
      "cell_type": "code",
      "metadata": {
        "colab": {
          "base_uri": "https://localhost:8080/"
        },
        "id": "8c4jvAGBoqTL",
        "outputId": "3dd78bef-0ad7-43f8-d448-8446625e7f6e"
      },
      "source": [
        "randm.best_params_"
      ],
      "execution_count": null,
      "outputs": [
        {
          "output_type": "execute_result",
          "data": {
            "text/plain": [
              "{'depth': 9, 'iterations': 47, 'learning_rate': 0.36728949846879244}"
            ]
          },
          "metadata": {
            "tags": []
          },
          "execution_count": 47
        }
      ]
    },
    {
      "cell_type": "code",
      "metadata": {
        "colab": {
          "base_uri": "https://localhost:8080/"
        },
        "id": "KSNwQ2KBoxBS",
        "outputId": "d17fa40b-47d4-46cf-9d4a-7ef2ae68647a"
      },
      "source": [
        "%%time\r\n",
        "print(\"Start Predicting\")\r\n",
        "predictions = randm.best_estimator_.predict(X_test)\r\n",
        "pred_proba = randm.best_estimator_.predict_proba(X_test)[:, 1]\r\n",
        "\r\n",
        "print(\"\\nResulting Metrics\")\r\n",
        "print(\"Accuracy : %.4g\" % metrics.accuracy_score(y_test, predictions))\r\n",
        "print(\"AUC : %f\" % metrics.roc_auc_score(y_test, pred_proba))\r\n",
        "print(\"F1 Score : %f\" % metrics.f1_score(y_test, predictions))"
      ],
      "execution_count": null,
      "outputs": [
        {
          "output_type": "stream",
          "text": [
            "Start Predicting\n",
            "\n",
            "Resulting Metrics\n",
            "Accuracy : 0.9775\n",
            "AUC : 0.910361\n",
            "F1 Score : 0.552909\n",
            "CPU times: user 512 ms, sys: 2.78 ms, total: 515 ms\n",
            "Wall time: 378 ms\n"
          ],
          "name": "stdout"
        }
      ]
    },
    {
      "cell_type": "code",
      "metadata": {
        "id": "G4snD8smo6PD"
      },
      "source": [
        "pred = randm.predict(test)    # score = 0.710191\r\n",
        "pred = pd.DataFrame(pred, columns=['isFraud'])\r\n",
        "t_id = [i for i in range(3663549,4170240)]\r\n",
        "pred[\"TransactionID\"] = t_id\r\n",
        "pred.set_index(\"TransactionID\", inplace=True)\r\n",
        "pred.to_csv(\"/content/drive/MyDrive/odev2/catboost_random3.csv\")"
      ],
      "execution_count": null,
      "outputs": []
    },
    {
      "cell_type": "code",
      "metadata": {
        "colab": {
          "base_uri": "https://localhost:8080/"
        },
        "id": "FDifPyxRpT0y",
        "outputId": "47393e43-4396-4d36-89c9-c186d967250a"
      },
      "source": [
        "!pip install scikit-optimize"
      ],
      "execution_count": null,
      "outputs": [
        {
          "output_type": "stream",
          "text": [
            "Requirement already satisfied: scikit-optimize in /usr/local/lib/python3.6/dist-packages (0.8.1)\n",
            "Requirement already satisfied: joblib>=0.11 in /usr/local/lib/python3.6/dist-packages (from scikit-optimize) (1.0.0)\n",
            "Requirement already satisfied: scikit-learn>=0.20.0 in /usr/local/lib/python3.6/dist-packages (from scikit-optimize) (0.22.2.post1)\n",
            "Requirement already satisfied: numpy>=1.13.3 in /usr/local/lib/python3.6/dist-packages (from scikit-optimize) (1.19.4)\n",
            "Requirement already satisfied: scipy>=0.19.1 in /usr/local/lib/python3.6/dist-packages (from scikit-optimize) (1.4.1)\n",
            "Requirement already satisfied: pyaml>=16.9 in /usr/local/lib/python3.6/dist-packages (from scikit-optimize) (20.4.0)\n",
            "Requirement already satisfied: PyYAML in /usr/local/lib/python3.6/dist-packages (from pyaml>=16.9->scikit-optimize) (3.13)\n"
          ],
          "name": "stdout"
        }
      ]
    },
    {
      "cell_type": "code",
      "metadata": {
        "id": "zWblCvHkt64Z"
      },
      "source": [
        "from skopt import BayesSearchCV\r\n",
        "from skopt.callbacks import DeadlineStopper, VerboseCallback, DeltaXStopper\r\n",
        "from skopt.space import Real, Categorical, Integer\r\n",
        "from sklearn.model_selection import StratifiedKFold\r\n",
        "\r\n",
        "from sklearn.metrics import roc_auc_score\r\n",
        "from sklearn.metrics import make_scorer"
      ],
      "execution_count": null,
      "outputs": []
    },
    {
      "cell_type": "markdown",
      "metadata": {
        "id": "Gtf980ySvohw"
      },
      "source": [
        "# Bayesian Optimization for CatBoost \r\n",
        "1.   Kaggle Score= 0.726318\r\n",
        "2.   Time = 72 sec"
      ]
    },
    {
      "cell_type": "code",
      "metadata": {
        "colab": {
          "base_uri": "https://localhost:8080/"
        },
        "id": "wJclwsgivPP3",
        "outputId": "42a3f1e7-3aea-4bff-9ba1-bd2fcb5fec96"
      },
      "source": [
        "roc_auc = make_scorer(roc_auc_score, greater_is_better=True, needs_threshold=True)\r\n",
        "\r\n",
        "# Defining your search space\r\n",
        "search_spaces = {'iterations': Integer(10, 300),\r\n",
        "                 'depth': Integer(1, 8),\r\n",
        "                 'learning_rate': Real(0.01, 1.0, 'log-uniform'),\r\n",
        "                 #'random_strength': Real(1e-9, 10, 'log-uniform'),\r\n",
        "                 #'bagging_temperature': Real(0.0, 1.0),\r\n",
        "                 #'border_count': Integer(1, 255),\r\n",
        "                 #'l2_leaf_reg': Integer(2, 30),\r\n",
        "                 #'scale_pos_weight':Real(0.01, 1.0, 'uniform')\r\n",
        "                 }\r\n",
        "# Setting up BayesSearchCV\r\n",
        "opt = BayesSearchCV(model,\r\n",
        "                    search_spaces,\r\n",
        "                    scoring=roc_auc,\r\n",
        "                    n_iter=2,\r\n",
        "                    n_jobs=-1,  \r\n",
        "                    return_train_score=False,\r\n",
        "                    refit=True, #use best model\r\n",
        "                    optimizer_kwargs={'base_estimator': 'GP'},\r\n",
        "                    random_state=42)\r\n",
        "# Running the optimization\r\n",
        "opt.fit(X_train, y_train)"
      ],
      "execution_count": null,
      "outputs": [
        {
          "output_type": "stream",
          "text": [
            "0:\tlearn: 0.9680607\ttotal: 17.4ms\tremaining: 3.82s\n",
            "1:\tlearn: 0.9683897\ttotal: 34.5ms\tremaining: 3.78s\n",
            "2:\tlearn: 0.9691251\ttotal: 51.2ms\tremaining: 3.72s\n",
            "3:\tlearn: 0.9702887\ttotal: 80.2ms\tremaining: 4.35s\n",
            "4:\tlearn: 0.9707459\ttotal: 96.5ms\tremaining: 4.17s\n",
            "5:\tlearn: 0.9711910\ttotal: 112ms\tremaining: 4.02s\n",
            "6:\tlearn: 0.9717039\ttotal: 130ms\tremaining: 3.97s\n",
            "7:\tlearn: 0.9719095\ttotal: 147ms\tremaining: 3.9s\n",
            "8:\tlearn: 0.9723111\ttotal: 163ms\tremaining: 3.83s\n",
            "9:\tlearn: 0.9723401\ttotal: 179ms\tremaining: 3.77s\n",
            "10:\tlearn: 0.9725796\ttotal: 195ms\tremaining: 3.73s\n",
            "11:\tlearn: 0.9726642\ttotal: 211ms\tremaining: 3.67s\n",
            "12:\tlearn: 0.9726884\ttotal: 232ms\tremaining: 3.71s\n",
            "13:\tlearn: 0.9727949\ttotal: 249ms\tremaining: 3.67s\n",
            "14:\tlearn: 0.9728795\ttotal: 265ms\tremaining: 3.63s\n",
            "15:\tlearn: 0.9730150\ttotal: 278ms\tremaining: 3.56s\n",
            "16:\tlearn: 0.9732013\ttotal: 292ms\tremaining: 3.51s\n",
            "17:\tlearn: 0.9733368\ttotal: 305ms\tremaining: 3.44s\n",
            "18:\tlearn: 0.9734214\ttotal: 318ms\tremaining: 3.39s\n",
            "19:\tlearn: 0.9735738\ttotal: 333ms\tremaining: 3.34s\n",
            "20:\tlearn: 0.9736803\ttotal: 346ms\tremaining: 3.29s\n",
            "21:\tlearn: 0.9738133\ttotal: 360ms\tremaining: 3.25s\n",
            "22:\tlearn: 0.9738907\ttotal: 373ms\tremaining: 3.21s\n",
            "23:\tlearn: 0.9740020\ttotal: 387ms\tremaining: 3.17s\n",
            "24:\tlearn: 0.9740044\ttotal: 401ms\tremaining: 3.14s\n",
            "25:\tlearn: 0.9740480\ttotal: 414ms\tremaining: 3.11s\n",
            "26:\tlearn: 0.9741278\ttotal: 433ms\tremaining: 3.11s\n",
            "27:\tlearn: 0.9741641\ttotal: 446ms\tremaining: 3.07s\n",
            "28:\tlearn: 0.9742294\ttotal: 460ms\tremaining: 3.04s\n",
            "29:\tlearn: 0.9742681\ttotal: 473ms\tremaining: 3.01s\n",
            "30:\tlearn: 0.9742342\ttotal: 486ms\tremaining: 2.98s\n",
            "31:\tlearn: 0.9742778\ttotal: 497ms\tremaining: 2.94s\n",
            "32:\tlearn: 0.9743286\ttotal: 510ms\tremaining: 2.9s\n",
            "33:\tlearn: 0.9744350\ttotal: 522ms\tremaining: 2.87s\n",
            "34:\tlearn: 0.9744665\ttotal: 534ms\tremaining: 2.83s\n",
            "35:\tlearn: 0.9745753\ttotal: 546ms\tremaining: 2.8s\n",
            "36:\tlearn: 0.9746697\ttotal: 558ms\tremaining: 2.77s\n",
            "37:\tlearn: 0.9746939\ttotal: 570ms\tremaining: 2.74s\n",
            "38:\tlearn: 0.9747229\ttotal: 581ms\tremaining: 2.71s\n",
            "39:\tlearn: 0.9747253\ttotal: 594ms\tremaining: 2.69s\n",
            "40:\tlearn: 0.9748269\ttotal: 606ms\tremaining: 2.66s\n",
            "41:\tlearn: 0.9748414\ttotal: 618ms\tremaining: 2.63s\n",
            "42:\tlearn: 0.9749164\ttotal: 634ms\tremaining: 2.62s\n",
            "43:\tlearn: 0.9749019\ttotal: 646ms\tremaining: 2.6s\n",
            "44:\tlearn: 0.9749334\ttotal: 658ms\tremaining: 2.57s\n",
            "45:\tlearn: 0.9749624\ttotal: 669ms\tremaining: 2.54s\n",
            "46:\tlearn: 0.9751704\ttotal: 681ms\tremaining: 2.52s\n",
            "47:\tlearn: 0.9752430\ttotal: 692ms\tremaining: 2.5s\n",
            "48:\tlearn: 0.9752841\ttotal: 703ms\tremaining: 2.47s\n",
            "49:\tlearn: 0.9752938\ttotal: 715ms\tremaining: 2.44s\n",
            "50:\tlearn: 0.9753567\ttotal: 725ms\tremaining: 2.42s\n",
            "51:\tlearn: 0.9753978\ttotal: 737ms\tremaining: 2.4s\n",
            "52:\tlearn: 0.9754728\ttotal: 748ms\tremaining: 2.37s\n",
            "53:\tlearn: 0.9756228\ttotal: 759ms\tremaining: 2.35s\n",
            "54:\tlearn: 0.9755986\ttotal: 770ms\tremaining: 2.33s\n",
            "55:\tlearn: 0.9756518\ttotal: 781ms\tremaining: 2.3s\n",
            "56:\tlearn: 0.9756954\ttotal: 792ms\tremaining: 2.28s\n",
            "57:\tlearn: 0.9756954\ttotal: 803ms\tremaining: 2.26s\n",
            "58:\tlearn: 0.9757413\ttotal: 814ms\tremaining: 2.24s\n",
            "59:\tlearn: 0.9758381\ttotal: 826ms\tremaining: 2.21s\n",
            "60:\tlearn: 0.9758599\ttotal: 841ms\tremaining: 2.2s\n",
            "61:\tlearn: 0.9758768\ttotal: 852ms\tremaining: 2.18s\n",
            "62:\tlearn: 0.9758937\ttotal: 862ms\tremaining: 2.16s\n",
            "63:\tlearn: 0.9759179\ttotal: 874ms\tremaining: 2.14s\n",
            "64:\tlearn: 0.9759131\ttotal: 885ms\tremaining: 2.12s\n",
            "65:\tlearn: 0.9759470\ttotal: 896ms\tremaining: 2.1s\n",
            "66:\tlearn: 0.9759542\ttotal: 907ms\tremaining: 2.08s\n",
            "67:\tlearn: 0.9759857\ttotal: 918ms\tremaining: 2.06s\n",
            "68:\tlearn: 0.9760219\ttotal: 928ms\tremaining: 2.04s\n",
            "69:\tlearn: 0.9760776\ttotal: 939ms\tremaining: 2.02s\n",
            "70:\tlearn: 0.9761647\ttotal: 950ms\tremaining: 2.01s\n",
            "71:\tlearn: 0.9762131\ttotal: 962ms\tremaining: 1.99s\n",
            "72:\tlearn: 0.9761913\ttotal: 973ms\tremaining: 1.97s\n",
            "73:\tlearn: 0.9762131\ttotal: 984ms\tremaining: 1.95s\n",
            "74:\tlearn: 0.9762518\ttotal: 994ms\tremaining: 1.94s\n",
            "75:\tlearn: 0.9762856\ttotal: 1s\tremaining: 1.92s\n",
            "76:\tlearn: 0.9763292\ttotal: 1.02s\tremaining: 1.9s\n",
            "77:\tlearn: 0.9763921\ttotal: 1.03s\tremaining: 1.88s\n",
            "78:\tlearn: 0.9764138\ttotal: 1.04s\tremaining: 1.87s\n",
            "79:\tlearn: 0.9764429\ttotal: 1.05s\tremaining: 1.86s\n",
            "80:\tlearn: 0.9764864\ttotal: 1.07s\tremaining: 1.86s\n",
            "81:\tlearn: 0.9765300\ttotal: 1.08s\tremaining: 1.84s\n",
            "82:\tlearn: 0.9765421\ttotal: 1.1s\tremaining: 1.82s\n",
            "83:\tlearn: 0.9765735\ttotal: 1.11s\tremaining: 1.8s\n",
            "84:\tlearn: 0.9765977\ttotal: 1.12s\tremaining: 1.79s\n",
            "85:\tlearn: 0.9766195\ttotal: 1.13s\tremaining: 1.77s\n",
            "86:\tlearn: 0.9766219\ttotal: 1.14s\tremaining: 1.76s\n",
            "87:\tlearn: 0.9767235\ttotal: 1.16s\tremaining: 1.75s\n",
            "88:\tlearn: 0.9767307\ttotal: 1.17s\tremaining: 1.73s\n",
            "89:\tlearn: 0.9767840\ttotal: 1.18s\tremaining: 1.71s\n",
            "90:\tlearn: 0.9768009\ttotal: 1.19s\tremaining: 1.7s\n",
            "91:\tlearn: 0.9768057\ttotal: 1.2s\tremaining: 1.68s\n",
            "92:\tlearn: 0.9768251\ttotal: 1.21s\tremaining: 1.67s\n",
            "93:\tlearn: 0.9768348\ttotal: 1.22s\tremaining: 1.65s\n",
            "94:\tlearn: 0.9768275\ttotal: 1.23s\tremaining: 1.63s\n",
            "95:\tlearn: 0.9768880\ttotal: 1.25s\tremaining: 1.62s\n",
            "96:\tlearn: 0.9769025\ttotal: 1.26s\tremaining: 1.61s\n",
            "97:\tlearn: 0.9769243\ttotal: 1.27s\tremaining: 1.59s\n",
            "98:\tlearn: 0.9769509\ttotal: 1.28s\tremaining: 1.58s\n",
            "99:\tlearn: 0.9769751\ttotal: 1.29s\tremaining: 1.56s\n",
            "100:\tlearn: 0.9769920\ttotal: 1.3s\tremaining: 1.55s\n",
            "101:\tlearn: 0.9770162\ttotal: 1.31s\tremaining: 1.53s\n",
            "102:\tlearn: 0.9770380\ttotal: 1.32s\tremaining: 1.52s\n",
            "103:\tlearn: 0.9770694\ttotal: 1.34s\tremaining: 1.5s\n",
            "104:\tlearn: 0.9771081\ttotal: 1.35s\tremaining: 1.49s\n",
            "105:\tlearn: 0.9770936\ttotal: 1.36s\tremaining: 1.47s\n",
            "106:\tlearn: 0.9770912\ttotal: 1.37s\tremaining: 1.46s\n",
            "107:\tlearn: 0.9771081\ttotal: 1.38s\tremaining: 1.44s\n",
            "108:\tlearn: 0.9771444\ttotal: 1.39s\tremaining: 1.43s\n",
            "109:\tlearn: 0.9771251\ttotal: 1.4s\tremaining: 1.41s\n",
            "110:\tlearn: 0.9771638\ttotal: 1.41s\tremaining: 1.4s\n",
            "111:\tlearn: 0.9771855\ttotal: 1.42s\tremaining: 1.38s\n",
            "112:\tlearn: 0.9772533\ttotal: 1.43s\tremaining: 1.37s\n",
            "113:\tlearn: 0.9772654\ttotal: 1.45s\tremaining: 1.36s\n",
            "114:\tlearn: 0.9772726\ttotal: 1.46s\tremaining: 1.34s\n",
            "115:\tlearn: 0.9772920\ttotal: 1.47s\tremaining: 1.33s\n",
            "116:\tlearn: 0.9773162\ttotal: 1.48s\tremaining: 1.32s\n",
            "117:\tlearn: 0.9773065\ttotal: 1.49s\tremaining: 1.3s\n",
            "118:\tlearn: 0.9773452\ttotal: 1.5s\tremaining: 1.29s\n",
            "119:\tlearn: 0.9773428\ttotal: 1.51s\tremaining: 1.27s\n",
            "120:\tlearn: 0.9773404\ttotal: 1.53s\tremaining: 1.26s\n",
            "121:\tlearn: 0.9773549\ttotal: 1.54s\tremaining: 1.25s\n",
            "122:\tlearn: 0.9774250\ttotal: 1.55s\tremaining: 1.23s\n",
            "123:\tlearn: 0.9774831\ttotal: 1.56s\tremaining: 1.22s\n",
            "124:\tlearn: 0.9775315\ttotal: 1.57s\tremaining: 1.21s\n",
            "125:\tlearn: 0.9775363\ttotal: 1.58s\tremaining: 1.19s\n",
            "126:\tlearn: 0.9775387\ttotal: 1.59s\tremaining: 1.18s\n",
            "127:\tlearn: 0.9775726\ttotal: 1.6s\tremaining: 1.17s\n",
            "128:\tlearn: 0.9776790\ttotal: 1.61s\tremaining: 1.15s\n",
            "129:\tlearn: 0.9776790\ttotal: 1.63s\tremaining: 1.14s\n",
            "130:\tlearn: 0.9776669\ttotal: 1.64s\tremaining: 1.13s\n",
            "131:\tlearn: 0.9777298\ttotal: 1.65s\tremaining: 1.11s\n",
            "132:\tlearn: 0.9777540\ttotal: 1.66s\tremaining: 1.1s\n",
            "133:\tlearn: 0.9777540\ttotal: 1.67s\tremaining: 1.09s\n",
            "134:\tlearn: 0.9778097\ttotal: 1.69s\tremaining: 1.07s\n",
            "135:\tlearn: 0.9778435\ttotal: 1.7s\tremaining: 1.06s\n",
            "136:\tlearn: 0.9778895\ttotal: 1.71s\tremaining: 1.05s\n",
            "137:\tlearn: 0.9779209\ttotal: 1.72s\tremaining: 1.03s\n",
            "138:\tlearn: 0.9779330\ttotal: 1.73s\tremaining: 1.02s\n",
            "139:\tlearn: 0.9779403\ttotal: 1.74s\tremaining: 1.01s\n",
            "140:\tlearn: 0.9779693\ttotal: 1.75s\tremaining: 994ms\n",
            "141:\tlearn: 0.9779935\ttotal: 1.76s\tremaining: 981ms\n",
            "142:\tlearn: 0.9780467\ttotal: 1.77s\tremaining: 967ms\n",
            "143:\tlearn: 0.9780419\ttotal: 1.78s\tremaining: 954ms\n",
            "144:\tlearn: 0.9780322\ttotal: 1.79s\tremaining: 941ms\n",
            "145:\tlearn: 0.9780419\ttotal: 1.81s\tremaining: 928ms\n",
            "146:\tlearn: 0.9780879\ttotal: 1.82s\tremaining: 915ms\n",
            "147:\tlearn: 0.9781628\ttotal: 1.83s\tremaining: 902ms\n",
            "148:\tlearn: 0.9781943\ttotal: 1.84s\tremaining: 889ms\n",
            "149:\tlearn: 0.9782548\ttotal: 1.86s\tremaining: 879ms\n",
            "150:\tlearn: 0.9782524\ttotal: 1.87s\tremaining: 866ms\n",
            "151:\tlearn: 0.9782790\ttotal: 1.88s\tremaining: 853ms\n",
            "152:\tlearn: 0.9782620\ttotal: 1.89s\tremaining: 840ms\n",
            "153:\tlearn: 0.9782935\ttotal: 1.9s\tremaining: 828ms\n",
            "154:\tlearn: 0.9783080\ttotal: 1.91s\tremaining: 815ms\n",
            "155:\tlearn: 0.9783249\ttotal: 1.93s\tremaining: 803ms\n",
            "156:\tlearn: 0.9783806\ttotal: 1.94s\tremaining: 790ms\n",
            "157:\tlearn: 0.9784217\ttotal: 1.95s\tremaining: 777ms\n",
            "158:\tlearn: 0.9784168\ttotal: 1.96s\tremaining: 764ms\n",
            "159:\tlearn: 0.9784652\ttotal: 1.97s\tremaining: 751ms\n",
            "160:\tlearn: 0.9784870\ttotal: 1.98s\tremaining: 738ms\n",
            "161:\tlearn: 0.9784773\ttotal: 1.99s\tremaining: 726ms\n",
            "162:\tlearn: 0.9784701\ttotal: 2s\tremaining: 713ms\n",
            "163:\tlearn: 0.9785136\ttotal: 2.01s\tremaining: 700ms\n",
            "164:\tlearn: 0.9785039\ttotal: 2.03s\tremaining: 688ms\n",
            "165:\tlearn: 0.9785330\ttotal: 2.04s\tremaining: 677ms\n",
            "166:\tlearn: 0.9785354\ttotal: 2.07s\tremaining: 670ms\n",
            "167:\tlearn: 0.9785693\ttotal: 2.08s\tremaining: 657ms\n",
            "168:\tlearn: 0.9785886\ttotal: 2.09s\tremaining: 644ms\n",
            "169:\tlearn: 0.9785717\ttotal: 2.1s\tremaining: 631ms\n",
            "170:\tlearn: 0.9785886\ttotal: 2.12s\tremaining: 619ms\n",
            "171:\tlearn: 0.9786055\ttotal: 2.13s\tremaining: 606ms\n",
            "172:\tlearn: 0.9786273\ttotal: 2.14s\tremaining: 593ms\n",
            "173:\tlearn: 0.9786394\ttotal: 2.15s\tremaining: 580ms\n",
            "174:\tlearn: 0.9786321\ttotal: 2.16s\tremaining: 568ms\n",
            "175:\tlearn: 0.9786563\ttotal: 2.17s\tremaining: 555ms\n",
            "176:\tlearn: 0.9786805\ttotal: 2.18s\tremaining: 542ms\n",
            "177:\tlearn: 0.9786733\ttotal: 2.19s\tremaining: 530ms\n",
            "178:\tlearn: 0.9786926\ttotal: 2.2s\tremaining: 517ms\n",
            "179:\tlearn: 0.9787144\ttotal: 2.21s\tremaining: 505ms\n",
            "180:\tlearn: 0.9787337\ttotal: 2.23s\tremaining: 492ms\n",
            "181:\tlearn: 0.9787410\ttotal: 2.24s\tremaining: 479ms\n",
            "182:\tlearn: 0.9787725\ttotal: 2.25s\tremaining: 467ms\n",
            "183:\tlearn: 0.9787894\ttotal: 2.26s\tremaining: 455ms\n",
            "184:\tlearn: 0.9788450\ttotal: 2.28s\tremaining: 443ms\n",
            "185:\tlearn: 0.9788741\ttotal: 2.29s\tremaining: 431ms\n",
            "186:\tlearn: 0.9788813\ttotal: 2.3s\tremaining: 418ms\n",
            "187:\tlearn: 0.9788862\ttotal: 2.31s\tremaining: 406ms\n",
            "188:\tlearn: 0.9788982\ttotal: 2.32s\tremaining: 393ms\n",
            "189:\tlearn: 0.9789103\ttotal: 2.33s\tremaining: 381ms\n",
            "190:\tlearn: 0.9789152\ttotal: 2.34s\tremaining: 368ms\n",
            "191:\tlearn: 0.9789152\ttotal: 2.35s\tremaining: 356ms\n",
            "192:\tlearn: 0.9789611\ttotal: 2.37s\tremaining: 343ms\n",
            "193:\tlearn: 0.9789490\ttotal: 2.38s\tremaining: 331ms\n",
            "194:\tlearn: 0.9789684\ttotal: 2.39s\tremaining: 318ms\n",
            "195:\tlearn: 0.9789902\ttotal: 2.4s\tremaining: 306ms\n",
            "196:\tlearn: 0.9790047\ttotal: 2.41s\tremaining: 294ms\n",
            "197:\tlearn: 0.9790216\ttotal: 2.42s\tremaining: 281ms\n",
            "198:\tlearn: 0.9790023\ttotal: 2.43s\tremaining: 269ms\n",
            "199:\tlearn: 0.9789999\ttotal: 2.44s\tremaining: 256ms\n",
            "200:\tlearn: 0.9790289\ttotal: 2.45s\tremaining: 244ms\n",
            "201:\tlearn: 0.9790410\ttotal: 2.46s\tremaining: 232ms\n",
            "202:\tlearn: 0.9790458\ttotal: 2.48s\tremaining: 220ms\n",
            "203:\tlearn: 0.9790676\ttotal: 2.49s\tremaining: 208ms\n",
            "204:\tlearn: 0.9790652\ttotal: 2.5s\tremaining: 195ms\n",
            "205:\tlearn: 0.9790894\ttotal: 2.51s\tremaining: 183ms\n",
            "206:\tlearn: 0.9791256\ttotal: 2.52s\tremaining: 171ms\n",
            "207:\tlearn: 0.9791256\ttotal: 2.53s\tremaining: 158ms\n",
            "208:\tlearn: 0.9791837\ttotal: 2.55s\tremaining: 146ms\n",
            "209:\tlearn: 0.9791716\ttotal: 2.56s\tremaining: 134ms\n",
            "210:\tlearn: 0.9791885\ttotal: 2.57s\tremaining: 122ms\n",
            "211:\tlearn: 0.9792127\ttotal: 2.58s\tremaining: 109ms\n",
            "212:\tlearn: 0.9792176\ttotal: 2.59s\tremaining: 97.3ms\n",
            "213:\tlearn: 0.9792321\ttotal: 2.6s\tremaining: 85.1ms\n",
            "214:\tlearn: 0.9792466\ttotal: 2.61s\tremaining: 72.9ms\n",
            "215:\tlearn: 0.9792176\ttotal: 2.62s\tremaining: 60.7ms\n",
            "216:\tlearn: 0.9792272\ttotal: 2.63s\tremaining: 48.6ms\n",
            "217:\tlearn: 0.9792756\ttotal: 2.65s\tremaining: 36.4ms\n",
            "218:\tlearn: 0.9792563\ttotal: 2.66s\tremaining: 24.3ms\n",
            "219:\tlearn: 0.9792756\ttotal: 2.67s\tremaining: 12.1ms\n",
            "220:\tlearn: 0.9792877\ttotal: 2.68s\tremaining: 0us\n"
          ],
          "name": "stdout"
        },
        {
          "output_type": "execute_result",
          "data": {
            "text/plain": [
              "BayesSearchCV(cv=None, error_score='raise',\n",
              "              estimator=<catboost.core.CatBoostClassifier object at 0x7fbc1c34f048>,\n",
              "              fit_params=None, iid=True, n_iter=2, n_jobs=-1, n_points=1,\n",
              "              optimizer_kwargs={'base_estimator': 'GP'},\n",
              "              pre_dispatch='2*n_jobs', random_state=42, refit=True,\n",
              "              return_train_score=False,\n",
              "              scoring=make_scorer(roc_auc_score, needs_threshold=True),\n",
              "              search_spaces={'depth': Integer(low=1, high=8, prior='uniform', transform='identity'),\n",
              "                             'iterations': Integer(low=10, high=300, prior='uniform', transform='identity'),\n",
              "                             'learning_rate': Real(low=0.01, high=1.0, prior='log-uniform', transform='identity')},\n",
              "              verbose=0)"
            ]
          },
          "metadata": {
            "tags": []
          },
          "execution_count": 26
        }
      ]
    },
    {
      "cell_type": "code",
      "metadata": {
        "colab": {
          "base_uri": "https://localhost:8080/"
        },
        "id": "e0h3leU-vY-p",
        "outputId": "a8453dce-90b9-40ba-a0da-ae942b0c0d09"
      },
      "source": [
        "print(\"Start Predicting\")\r\n",
        "predictions = opt.best_estimator_.predict(X_test)\r\n",
        "pred_proba = opt.best_estimator_.predict_proba(X_test)[:, 1]\r\n",
        "\r\n",
        "print(\"\\nResulting Metrics\")\r\n",
        "print(\"Accuracy : %.4g\" % metrics.accuracy_score(y_test, predictions))\r\n",
        "print(\"AUC : %f\" % metrics.roc_auc_score(y_test, pred_proba))\r\n",
        "print(\"F1 Score : %f\" % metrics.f1_score(y_test, predictions))"
      ],
      "execution_count": null,
      "outputs": [
        {
          "output_type": "stream",
          "text": [
            "Start Predicting\n",
            "\n",
            "Resulting Metrics\n",
            "Accuracy : 0.9781\n",
            "AUC : 0.906868\n",
            "F1 Score : 0.579016\n"
          ],
          "name": "stdout"
        }
      ]
    },
    {
      "cell_type": "code",
      "metadata": {
        "id": "X90_KJzmvxYA"
      },
      "source": [
        "pred = opt.predict(test)    #0.726318\r\n",
        "pred = pd.DataFrame(pred, columns=['isFraud'])\r\n",
        "t_id = [i for i in range(3663549,4170240)]\r\n",
        "pred[\"TransactionID\"] = t_id\r\n",
        "pred.set_index(\"TransactionID\", inplace=True)\r\n",
        "pred.to_csv(\"/content/drive/MyDrive/odev2/catboost_Bayes3.csv\")"
      ],
      "execution_count": null,
      "outputs": []
    },
    {
      "cell_type": "markdown",
      "metadata": {
        "id": "1GMslHxzkZCT"
      },
      "source": [
        ""
      ]
    },
    {
      "cell_type": "markdown",
      "metadata": {
        "id": "SX_lW5JykaEr"
      },
      "source": [
        "# Bayesian Optimization for XgBoost\r\n",
        "\r\n",
        "\r\n",
        "1.   Kaggle Score:0.730195\r\n",
        "2.   Time:37 min\r\n",
        "\r\n"
      ]
    },
    {
      "cell_type": "code",
      "metadata": {
        "colab": {
          "base_uri": "https://localhost:8080/"
        },
        "id": "0xEUpFlBwA-v",
        "outputId": "018c154d-6086-4dc4-e1b9-1914ff8d1a57"
      },
      "source": [
        "roc_auc = make_scorer(roc_auc_score, greater_is_better=True, needs_threshold=True)\r\n",
        "\r\n",
        "# Defining your search space\r\n",
        "search_spaces = {'iterations': Integer(10, 300),\r\n",
        "                 'depth': Integer(1, 8),\r\n",
        "                 'learning_rate': Real(0.01, 1.0, 'log-uniform'),\r\n",
        "                 #'random_strength': Real(1e-9, 10, 'log-uniform'),\r\n",
        "                 #'bagging_temperature': Real(0.0, 1.0),\r\n",
        "                 #'border_count': Integer(1, 255),\r\n",
        "                 #'l2_leaf_reg': Integer(2, 30),\r\n",
        "                 #'scale_pos_weight':Real(0.01, 1.0, 'uniform')\r\n",
        "                 }\r\n",
        "# Setting up BayesSearchCV\r\n",
        "opt = BayesSearchCV(modelXG,\r\n",
        "                    search_spaces,\r\n",
        "                    scoring=roc_auc,\r\n",
        "                    n_iter=2, \r\n",
        "                    return_train_score=False,\r\n",
        "                    refit=True, #use best model\r\n",
        "                    optimizer_kwargs={'base_estimator': 'GP'},\r\n",
        "                    random_state=42)\r\n",
        "# Running the optimization\r\n",
        "opt.fit(X_train, y_train)"
      ],
      "execution_count": null,
      "outputs": [
        {
          "output_type": "execute_result",
          "data": {
            "text/plain": [
              "BayesSearchCV(cv=None, error_score='raise',\n",
              "              estimator=XGBClassifier(base_score=0.5, booster='gbtree',\n",
              "                                      colsample_bylevel=1, colsample_bynode=1,\n",
              "                                      colsample_bytree=1, gamma=0,\n",
              "                                      learning_rate=0.1, max_delta_step=0,\n",
              "                                      max_depth=3, min_child_weight=1,\n",
              "                                      missing=None, n_estimators=100, n_jobs=1,\n",
              "                                      nthread=None, objective='binary:logistic',\n",
              "                                      random_state=0, reg_alpha=0, reg_lambda=1,...\n",
              "              pre_dispatch='2*n_jobs', random_state=42, refit=True,\n",
              "              return_train_score=False,\n",
              "              scoring=make_scorer(roc_auc_score, needs_threshold=True),\n",
              "              search_spaces={'depth': Integer(low=1, high=8, prior='uniform', transform='identity'),\n",
              "                             'iterations': Integer(low=10, high=300, prior='uniform', transform='identity'),\n",
              "                             'learning_rate': Real(low=0.01, high=1.0, prior='log-uniform', transform='identity')},\n",
              "              verbose=0)"
            ]
          },
          "metadata": {
            "tags": []
          },
          "execution_count": 31
        }
      ]
    },
    {
      "cell_type": "code",
      "metadata": {
        "colab": {
          "base_uri": "https://localhost:8080/"
        },
        "id": "t9FSwNU2yTVI",
        "outputId": "eff81c8b-9c85-4eed-8c80-b8d2bdf1dbd4"
      },
      "source": [
        "opt.best_params_"
      ],
      "execution_count": null,
      "outputs": [
        {
          "output_type": "execute_result",
          "data": {
            "text/plain": [
              "OrderedDict([('depth', 4),\n",
              "             ('iterations', 221),\n",
              "             ('learning_rate', 0.7340675018434776)])"
            ]
          },
          "metadata": {
            "tags": []
          },
          "execution_count": 32
        }
      ]
    },
    {
      "cell_type": "code",
      "metadata": {
        "colab": {
          "base_uri": "https://localhost:8080/"
        },
        "id": "cTZ1CwaeJzPC",
        "outputId": "ed615254-f72d-4a18-bd46-238ac9149aa5"
      },
      "source": [
        "print(\"Start Predicting\")\r\n",
        "predictions = opt.best_estimator_.predict(X_test)\r\n",
        "pred_proba = opt.best_estimator_.predict_proba(X_test)[:, 1]\r\n",
        "\r\n",
        "print(\"\\nResulting Metrics\")\r\n",
        "print(\"Accuracy : %.4g\" % metrics.accuracy_score(y_test, predictions))\r\n",
        "print(\"AUC : %f\" % metrics.roc_auc_score(y_test, pred_proba))\r\n",
        "print(\"F1 Score : %f\" % metrics.f1_score(y_test, predictions))"
      ],
      "execution_count": null,
      "outputs": [
        {
          "output_type": "stream",
          "text": [
            "Start Predicting\n",
            "\n",
            "Resulting Metrics\n",
            "Accuracy : 0.9767\n",
            "AUC : 0.910253\n",
            "F1 Score : 0.554644\n"
          ],
          "name": "stdout"
        }
      ]
    },
    {
      "cell_type": "code",
      "metadata": {
        "id": "UZ0ygkgelwxV"
      },
      "source": [
        "pred = opt.predict(test)    \r\n",
        "pred = pd.DataFrame(pred, columns=['isFraud'])\r\n",
        "t_id = [i for i in range(3663549,4170240)]\r\n",
        "pred[\"TransactionID\"] = t_id\r\n",
        "pred.set_index(\"TransactionID\", inplace=True)\r\n",
        "pred.to_csv(\"/content/drive/MyDrive/odev2/xgBoost_Bayes3.csv\")"
      ],
      "execution_count": null,
      "outputs": []
    },
    {
      "cell_type": "markdown",
      "metadata": {
        "id": "RXgsuJ18FBZS"
      },
      "source": [
        "# Summary (CatBoost vs XgBoost)\r\n",
        "CatBoost is much faster than XgBoost (almost x30). CatBoost's kaggle score is better then XgBoost's kaggle score for default parameters. "
      ]
    },
    {
      "cell_type": "code",
      "metadata": {
        "id": "z05Mgny5_VxV"
      },
      "source": [
        ""
      ],
      "execution_count": null,
      "outputs": []
    }
  ]
}